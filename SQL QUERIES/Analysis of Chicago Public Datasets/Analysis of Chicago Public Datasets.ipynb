{
 "cells": [
  {
   "cell_type": "markdown",
   "id": "8acd5a23",
   "metadata": {},
   "source": [
    "# <center>________________________________________________________________</center>"
   ]
  },
  {
   "cell_type": "markdown",
   "id": "2e4335de",
   "metadata": {},
   "source": [
    "# <center>ANALYSIS OF CHICAGO PUBLIC DATASETS</center>"
   ]
  },
  {
   "cell_type": "markdown",
   "id": "5e414f84",
   "metadata": {},
   "source": [
    "# <center>________________________________________________________________</center>"
   ]
  },
  {
   "cell_type": "markdown",
   "id": "c3703d6e",
   "metadata": {},
   "source": [
    "## Datasets\n",
    "***"
   ]
  },
  {
   "cell_type": "markdown",
   "id": "28800cec",
   "metadata": {},
   "source": [
    "### 1. Socioeconomic Indicators in Chicago (2008-2012)"
   ]
  },
  {
   "cell_type": "markdown",
   "id": "cdedcb51",
   "metadata": {},
   "source": [
    "The city of Chicago released a dataset of socioeconomic data to the Chicago City Portal.\n",
    "This dataset contains a selection of six socioeconomic indicators of public health significance and a “hardship index,” for each Chicago community area, for the years 2008 – 2012.\n",
    "\n",
    "Scores on the hardship index can range from 1 to 100, with a higher index number representing a greater level of hardship.\n",
    "\n",
    "A detailed description of the dataset can be found on [the city of Chicago's website](https://data.cityofchicago.org/Health-Human-Services/Census-Data-Selected-socioeconomic-indicators-in-C/kn9c-c2s2), but to summarize, the dataset has the following variables:\n",
    "\n",
    "*   **Community Area Number** (`ca`): Used to uniquely identify each row of the dataset\n",
    "\n",
    "*   **Community Area Name** (`community_area_name`): The name of the region in the city of Chicago\n",
    "\n",
    "*   **Percent of Housing Crowded** (`percent_of_housing_crowded`): Percent of occupied housing units with more than one person per room\n",
    "\n",
    "*   **Percent Households Below Poverty** (`percent_households_below_poverty`): Percent of households living below the federal poverty line\n",
    "\n",
    "*   **Percent Aged 16+ Unemployed** (`percent_aged_16_unemployed`): Percent of persons over the age of 16 years that are unemployed\n",
    "\n",
    "*   **Percent Aged 25+ without High School Diploma** (`percent_aged_25_without_high_school_diploma`): Percent of persons over the age of 25 years without a high school education\n",
    "\n",
    "*   **Percent Aged Under** 18 or Over 64:Percent of population under 18 or over 64 years of age (`percent_aged_under_18_or_over_64`): (ie. dependents)\n",
    "\n",
    "*   **Per Capita Income** (`per_capita_income_`): Community Area per capita income is estimated as the sum of tract-level aggragate incomes divided by the total population\n",
    "\n",
    "*   **Hardship Index** (`hardship_index`): Score that incorporates each of the six selected socioeconomic indicators"
   ]
  },
  {
   "cell_type": "markdown",
   "id": "6f8eb7a3",
   "metadata": {},
   "source": [
    "### 2. Chicago Public Schools - Progress Report Cards (2011-2012)"
   ]
  },
  {
   "cell_type": "markdown",
   "id": "fdeee70a",
   "metadata": {},
   "source": [
    "The city of Chicago released a dataset showing all school level performance data used to create School Report Cards for the 2011-2012 school year. The dataset is available from the Chicago Data Portal: [https://data.cityofchicago.org/Education/Chicago-Public-Schools-Progress-Report-Cards-2011-/9xs2-f89t](https://data.cityofchicago.org/Education/Chicago-Public-Schools-Progress-Report-Cards-2011-/9xs2-f89t)\n",
    "\n",
    "This dataset includes a large number of metrics. The glossary can be found [here](https://data.cityofchicago.org/api/assets/AAD41A13-BE8A-4E67-B1F5-86E711E09D5F?download=true)."
   ]
  },
  {
   "cell_type": "markdown",
   "id": "e8569ed3",
   "metadata": {},
   "source": [
    "### 3. Chicago Crime Data (2001-Present)"
   ]
  },
  {
   "cell_type": "markdown",
   "id": "64b0af81",
   "metadata": {},
   "source": [
    "This dataset reflects reported incidents of crime (with the exception of murders where data exists for each victim) that occurred in the City of Chicago from 2001 to present, minus the most recent seven days.\n",
    "\n",
    "A detailed description of this dataset and the original dataset can be obtained from the Chicago Data Portal at:\n",
    "[https://data.cityofchicago.org/Public-Safety/Crimes-2001-to-present/ijzp-q8t2](https://data.cityofchicago.org/Public-Safety/Crimes-2001-to-present/ijzp-q8t2)"
   ]
  },
  {
   "cell_type": "markdown",
   "id": "d9a64dcc",
   "metadata": {},
   "source": [
    "### Download the datasets\n",
    "\n",
    "We will download the datasets from the links below, instead of directly from the Chicago Data Portal. The versions linked here are subsets of the original datasets and have some of the column names modified to be more database friendly. This way we can focus precisely on SQL queries instead of data wrangling.\n",
    "\n",
    "*   <a href=\"https://github.com/efeyemez/Portfolio/blob/main/Datasets/Chicago_Public_Datasets/ChicagoCensusData.csv\" target=\"_blank\">Chicago Census Data</a>\n",
    "\n",
    "*   <a href=\"https://github.com/efeyemez/Portfolio/blob/main/Datasets/Chicago_Public_Datasets/ChicagoPublicSchools.csv\" target=\"_blank\">Chicago Public Schools</a>\n",
    "\n",
    "*   <a href=\"https://github.com/efeyemez/Portfolio/blob/main/Datasets/Chicago_Public_Datasets/ChicagoCrimeData.csv\" target=\"_blank\">Chicago Crime Data</a>"
   ]
  },
  {
   "cell_type": "markdown",
   "id": "3a3fbc16",
   "metadata": {},
   "source": [
    "## Libraries\n",
    "***"
   ]
  },
  {
   "cell_type": "code",
   "execution_count": null,
   "id": "569d87b1",
   "metadata": {},
   "outputs": [],
   "source": [
    "#!pip install pandas\n",
    "#!pip install sqlalchemy\n",
    "#!pip install sqlite3\n",
    "#!pip install ipython-sql\n",
    "#!pip install matplotlib\n",
    "#!pip install seaborn"
   ]
  },
  {
   "cell_type": "code",
   "execution_count": null,
   "id": "3c6a72a5",
   "metadata": {},
   "outputs": [],
   "source": [
    "import csv, sqlite3\n",
    "import pandas as pd\n",
    "\n",
    "import matplotlib.pyplot as plt\n",
    "import seaborn as sns"
   ]
  },
  {
   "cell_type": "markdown",
   "id": "539f54b2",
   "metadata": {},
   "source": [
    "## Creating and Connecting to Database\n",
    "***"
   ]
  },
  {
   "cell_type": "code",
   "execution_count": null,
   "id": "f6e7a580",
   "metadata": {},
   "outputs": [],
   "source": [
    "%load_ext sql"
   ]
  },
  {
   "cell_type": "code",
   "execution_count": null,
   "id": "b5abf527",
   "metadata": {
    "scrolled": true
   },
   "outputs": [],
   "source": [
    "con = sqlite3.connect(\"chicago.db\")\n",
    "cur = con.cursor()"
   ]
  },
  {
   "cell_type": "code",
   "execution_count": null,
   "id": "3c76a42b",
   "metadata": {},
   "outputs": [],
   "source": [
    "%sql sqlite:///chicago.db"
   ]
  },
  {
   "cell_type": "markdown",
   "id": "723babdc",
   "metadata": {},
   "source": [
    "## Data Acquisation\n",
    "***"
   ]
  },
  {
   "cell_type": "code",
   "execution_count": null,
   "id": "6aa96ac6",
   "metadata": {
    "scrolled": true
   },
   "outputs": [],
   "source": [
    "df_census = pd.read_csv('https://github.com/efeyemez/Portfolio/raw/main/Datasets/Chicago_Public_Datasets/ChicagoCensusData.csv')\n",
    "print(df_census.shape)\n",
    "df_census.head(3)"
   ]
  },
  {
   "cell_type": "code",
   "execution_count": null,
   "id": "67e3af59",
   "metadata": {},
   "outputs": [],
   "source": [
    "df_schools = pd.read_csv('https://github.com/efeyemez/Portfolio/raw/main/Datasets/Chicago_Public_Datasets/ChicagoPublicSchools.csv')\n",
    "print(df_schools.shape)\n",
    "df_schools.head(3)"
   ]
  },
  {
   "cell_type": "code",
   "execution_count": null,
   "id": "20b3797a",
   "metadata": {},
   "outputs": [],
   "source": [
    "df_crime = pd.read_csv('https://github.com/efeyemez/Portfolio/raw/main/Datasets/Chicago_Public_Datasets/ChicagoCrimeData.csv')\n",
    "print(df_schools.shape)\n",
    "df_schools.head(3)"
   ]
  },
  {
   "cell_type": "markdown",
   "id": "48ffbac0",
   "metadata": {},
   "source": [
    "## Importing Datasets into the Database\n",
    "***"
   ]
  },
  {
   "cell_type": "code",
   "execution_count": null,
   "id": "5b1ddf64",
   "metadata": {
    "scrolled": false
   },
   "outputs": [],
   "source": [
    "df_census.to_sql(\"CENSUS_DATA\", con, if_exists='replace', index=False, method=\"multi\")\n",
    "df_schools.to_sql(\"CHICAGO_PUBLIC_SCHOOLS\", con, if_exists='replace', index=False, method=\"multi\")\n",
    "df_crime.to_sql(\"CHICAGO_CRIME_DATA\", con, if_exists='replace', index=False, method=\"multi\")"
   ]
  },
  {
   "cell_type": "markdown",
   "id": "5054ee0d",
   "metadata": {},
   "source": [
    "The database system catalog:"
   ]
  },
  {
   "cell_type": "code",
   "execution_count": null,
   "id": "76727bb4",
   "metadata": {},
   "outputs": [],
   "source": [
    "%sql SELECT name FROM sqlite_master WHERE type='table';"
   ]
  },
  {
   "cell_type": "markdown",
   "id": "e6957f6f",
   "metadata": {},
   "source": [
    "# QUERIES FOR CENSUS DATA\n",
    "***"
   ]
  },
  {
   "cell_type": "markdown",
   "id": "61d1d52c",
   "metadata": {},
   "source": [
    "## Column metadata"
   ]
  },
  {
   "cell_type": "code",
   "execution_count": null,
   "id": "0004a495",
   "metadata": {
    "scrolled": false
   },
   "outputs": [],
   "source": [
    "%sql SELECT name,type,length(type) FROM PRAGMA_TABLE_INFO('CENSUS_DATA') LIMIT 5;"
   ]
  },
  {
   "cell_type": "markdown",
   "id": "8df410f2",
   "metadata": {},
   "source": [
    "## How many records are in the dataset?"
   ]
  },
  {
   "cell_type": "code",
   "execution_count": null,
   "id": "040a7533",
   "metadata": {},
   "outputs": [],
   "source": [
    "%sql SELECT COUNT(*) FROM CENSUS_DATA;"
   ]
  },
  {
   "cell_type": "markdown",
   "id": "f9f8333a",
   "metadata": {},
   "source": [
    "## What is the maximum value of hardship index in the dataset?"
   ]
  },
  {
   "cell_type": "code",
   "execution_count": null,
   "id": "51e46638",
   "metadata": {},
   "outputs": [],
   "source": [
    "%sql SELECT MAX(HARDSHIP_INDEX) FROM CENSUS_DATA;"
   ]
  },
  {
   "cell_type": "markdown",
   "id": "d9066d91",
   "metadata": {},
   "source": [
    "## Which community area has the highest hardship index? (with a sub-query)"
   ]
  },
  {
   "cell_type": "code",
   "execution_count": null,
   "id": "50c28593",
   "metadata": {
    "scrolled": false
   },
   "outputs": [],
   "source": [
    "%%sql SELECT COMMUNITY_AREA_NAME, HARDSHIP_INDEX FROM CENSUS_DATA\n",
    "        WHERE HARDSHIP_INDEX = (SELECT MAX(HARDSHIP_INDEX) FROM CENSUS_DATA)"
   ]
  },
  {
   "cell_type": "markdown",
   "id": "9ba26b2b",
   "metadata": {},
   "source": [
    "## How many community areas have a hardship index greater than 50?"
   ]
  },
  {
   "cell_type": "code",
   "execution_count": null,
   "id": "04878ca8",
   "metadata": {},
   "outputs": [],
   "source": [
    "%sql SELECT COUNT(*) FROM CENSUS_DATA WHERE HARDSHIP_INDEX > 50.0;"
   ]
  },
  {
   "cell_type": "markdown",
   "id": "60e717a7",
   "metadata": {},
   "source": [
    "## Which community areas have per-capita income greater than $60,000?"
   ]
  },
  {
   "cell_type": "code",
   "execution_count": null,
   "id": "49dd68d1",
   "metadata": {},
   "outputs": [],
   "source": [
    "%sql SELECT COMMUNITY_AREA_NAME FROM CENSUS_DATA WHERE PER_CAPITA_INCOME > 60000;"
   ]
  },
  {
   "cell_type": "markdown",
   "id": "5015820b",
   "metadata": {},
   "source": [
    "## Which community areas have per capita income less than $11,000?"
   ]
  },
  {
   "cell_type": "code",
   "execution_count": null,
   "id": "1cd4f1fe",
   "metadata": {
    "scrolled": true
   },
   "outputs": [],
   "source": [
    "%%sql SELECT COMMUNITY_AREA_NAME, PER_CAPITA_INCOME FROM CENSUS_DATA\n",
    "        WHERE PER_CAPITA_INCOME < 11000;"
   ]
  },
  {
   "cell_type": "markdown",
   "id": "aeeda5b9",
   "metadata": {},
   "source": [
    "## List 5 community areas with highest % of households below poverty line"
   ]
  },
  {
   "cell_type": "code",
   "execution_count": null,
   "id": "2b365687",
   "metadata": {
    "scrolled": true
   },
   "outputs": [],
   "source": [
    "%%sql SELECT COMMUNITY_AREA_NAME, PERCENT_HOUSEHOLDS_BELOW_POVERTY FROM CENSUS_DATA\n",
    "        ORDER BY PERCENT_HOUSEHOLDS_BELOW_POVERTY DESC LIMIT 5;"
   ]
  },
  {
   "cell_type": "markdown",
   "id": "f57dfd4d",
   "metadata": {},
   "source": [
    "## Scatter plot of per-capita income and hardship_index"
   ]
  },
  {
   "cell_type": "code",
   "execution_count": null,
   "id": "d8116d36",
   "metadata": {
    "scrolled": false
   },
   "outputs": [],
   "source": [
    "income_vs_hardship = %sql SELECT PER_CAPITA_INCOME, HARDSHIP_INDEX FROM CENSUS_DATA;\n",
    "\n",
    "fig = sns.jointplot(x='PER_CAPITA_INCOME', y='HARDSHIP_INDEX', data=income_vs_hardship.DataFrame())\n",
    "\n",
    "fig.set_axis_labels(\"Per Capita Income\", \"Hardship Index\")\n",
    "\n",
    "# Display the plot\n",
    "plt.show()"
   ]
  },
  {
   "cell_type": "markdown",
   "id": "07c09fab",
   "metadata": {},
   "source": [
    "## Scatter plot of per-capita income and percent households below poverty"
   ]
  },
  {
   "cell_type": "code",
   "execution_count": null,
   "id": "0d8664b2",
   "metadata": {
    "scrolled": false
   },
   "outputs": [],
   "source": [
    "income_vs_poverty = %sql SELECT PER_CAPITA_INCOME, PERCENT_HOUSEHOLDS_BELOW_POVERTY FROM CENSUS_DATA;\n",
    "\n",
    "fig = sns.jointplot(x='PER_CAPITA_INCOME',y='PERCENT_HOUSEHOLDS_BELOW_POVERTY', data=income_vs_poverty.DataFrame())\n",
    "\n",
    "fig.set_axis_labels(\"Per Capita Income\", \"Percent Households Below Poverty\")\n",
    "\n",
    "# Display the plot\n",
    "plt.show()"
   ]
  },
  {
   "cell_type": "markdown",
   "id": "ab28bef5",
   "metadata": {},
   "source": [
    "## Scatter plot of per-capita income and percent aged 16+ unemployed"
   ]
  },
  {
   "cell_type": "code",
   "execution_count": null,
   "id": "2de6ec39",
   "metadata": {
    "scrolled": false
   },
   "outputs": [],
   "source": [
    "income_vs_plus16 = %sql SELECT PER_CAPITA_INCOME, PERCENT_AGED_16__UNEMPLOYED FROM CENSUS_DATA;\n",
    "\n",
    "fig = sns.jointplot(x='PER_CAPITA_INCOME',y='PERCENT_AGED_16__UNEMPLOYED', data=income_vs_plus16.DataFrame())\n",
    "\n",
    "fig.set_axis_labels(\"Per Capita Income\", \"Percent Aged 16+ Unemployed\")\n",
    "\n",
    "# Display the plot\n",
    "plt.show()"
   ]
  },
  {
   "cell_type": "markdown",
   "id": "8a56f40f",
   "metadata": {},
   "source": [
    "# QUERIES FOR PUBLIC SCHOOLS DATA\n",
    "***"
   ]
  },
  {
   "cell_type": "markdown",
   "id": "25ed6371",
   "metadata": {},
   "source": [
    "## Column metadata"
   ]
  },
  {
   "cell_type": "code",
   "execution_count": null,
   "id": "65556e49",
   "metadata": {
    "scrolled": true
   },
   "outputs": [],
   "source": [
    "%sql SELECT name,type,length(type) FROM PRAGMA_TABLE_INFO('CHICAGO_PUBLIC_SCHOOLS') LIMIT 5;"
   ]
  },
  {
   "cell_type": "markdown",
   "id": "6f50195b",
   "metadata": {},
   "source": [
    "## What is the highest \"Safety Score\"?"
   ]
  },
  {
   "cell_type": "code",
   "execution_count": null,
   "id": "e71ca00b",
   "metadata": {},
   "outputs": [],
   "source": [
    "%sql SELECT MAX(SAFETY_SCORE) AS MAX_SAFETY_SCORE FROM CHICAGO_PUBLIC_SCHOOLS;"
   ]
  },
  {
   "cell_type": "markdown",
   "id": "6b83b3c6",
   "metadata": {},
   "source": [
    "## Which schools have highest \"Safety Score\"?"
   ]
  },
  {
   "cell_type": "code",
   "execution_count": null,
   "id": "01b11a60",
   "metadata": {
    "scrolled": false
   },
   "outputs": [],
   "source": [
    "%%sql SELECT NAME_OF_SCHOOL, SAFETY_SCORE FROM CHICAGO_PUBLIC_SCHOOLS\n",
    "        WHERE SAFETY_SCORE = (SELECT MAX(SAFETY_SCORE) FROM CHICAGO_PUBLIC_SCHOOLS);"
   ]
  },
  {
   "cell_type": "markdown",
   "id": "9c23cea7",
   "metadata": {},
   "source": [
    "## What are the 5 schools with lowest \"Safety Score\"?"
   ]
  },
  {
   "cell_type": "code",
   "execution_count": null,
   "id": "01e0facc",
   "metadata": {
    "scrolled": true
   },
   "outputs": [],
   "source": [
    "%%sql SELECT NAME_OF_SCHOOL, SAFETY_SCORE FROM CHICAGO_PUBLIC_SCHOOLS\n",
    "        ORDER BY SAFETY_SCORE NULLS LAST LIMIT 5"
   ]
  },
  {
   "cell_type": "markdown",
   "id": "2bb5ec9c",
   "metadata": {},
   "source": [
    "## List the average safety score for each type of school."
   ]
  },
  {
   "cell_type": "code",
   "execution_count": null,
   "id": "5edc4b58",
   "metadata": {
    "scrolled": true
   },
   "outputs": [],
   "source": [
    "%%sql SELECT School_Type, AVG(SAFETY_SCORE) AS Average_Safety_Score FROM CHICAGO_PUBLIC_SCHOOLS\n",
    "        GROUP BY School_Type;"
   ]
  },
  {
   "cell_type": "markdown",
   "id": "18d69b39",
   "metadata": {},
   "source": [
    "## How many elementary schools are in the dataset?"
   ]
  },
  {
   "cell_type": "code",
   "execution_count": null,
   "id": "69b57561",
   "metadata": {},
   "outputs": [],
   "source": [
    "%sql SELECT COUNT(*) FROM CHICAGO_PUBLIC_SCHOOLS WHERE \"School_Type\" = 'ES';"
   ]
  },
  {
   "cell_type": "markdown",
   "id": "a993232c",
   "metadata": {},
   "source": [
    "## What are the top 10 schools with the highest \"Average Student Attendance\"?"
   ]
  },
  {
   "cell_type": "code",
   "execution_count": null,
   "id": "de2e5e16",
   "metadata": {},
   "outputs": [],
   "source": [
    "%%sql SELECT NAME_OF_SCHOOL, AVERAGE_STUDENT_ATTENDANCE FROM CHICAGO_PUBLIC_SCHOOLS\n",
    "        ORDER BY AVERAGE_STUDENT_ATTENDANCE DESC NULLS LAST LIMIT 10;"
   ]
  },
  {
   "cell_type": "markdown",
   "id": "f1a76145",
   "metadata": {},
   "source": [
    "## What are the bottom 5 Schools with the lowest \"Average Student Attendance\"?"
   ]
  },
  {
   "cell_type": "code",
   "execution_count": null,
   "id": "2c994884",
   "metadata": {},
   "outputs": [],
   "source": [
    "%%sql SELECT NAME_OF_SCHOOL, AVERAGE_STUDENT_ATTENDANCE FROM CHICAGO_PUBLIC_SCHOOLS\n",
    "        ORDER BY AVERAGE_STUDENT_ATTENDANCE ASC NULLS LAST LIMIT 5;"
   ]
  },
  {
   "cell_type": "markdown",
   "id": "d553798c",
   "metadata": {},
   "source": [
    "## Remove the '%' sign from the above result set for \"Average Student Attendance\" column"
   ]
  },
  {
   "cell_type": "code",
   "execution_count": null,
   "id": "544d86ed",
   "metadata": {},
   "outputs": [],
   "source": [
    "%%sql SELECT NAME_OF_SCHOOL, REPLACE(AVERAGE_STUDENT_ATTENDANCE, '%', '') AS 'Average Student Attendance (%)' FROM CHICAGO_PUBLIC_SCHOOLS\n",
    "        ORDER BY AVERAGE_STUDENT_ATTENDANCE ASC NULLS LAST LIMIT 5;"
   ]
  },
  {
   "cell_type": "markdown",
   "id": "1dc58d9b",
   "metadata": {},
   "source": [
    "## Which schools have \"Average Student Attendance\" lower than 70%?"
   ]
  },
  {
   "cell_type": "code",
   "execution_count": null,
   "id": "eea55adf",
   "metadata": {},
   "outputs": [],
   "source": [
    "%%sql SELECT NAME_OF_SCHOOL, AVERAGE_STUDENT_ATTENDANCE FROM CHICAGO_PUBLIC_SCHOOLS\n",
    "        WHERE CAST(REPLACE(AVERAGE_STUDENT_ATTENDANCE, '%', '') AS DOUBLE) < 70\n",
    "        ORDER BY AVERAGE_STUDENT_ATTENDANCE;"
   ]
  },
  {
   "cell_type": "markdown",
   "id": "13ffeda4",
   "metadata": {},
   "source": [
    "## What is the total \"College Enrollment\" for each community area? (show 5)"
   ]
  },
  {
   "cell_type": "code",
   "execution_count": null,
   "id": "bbaef501",
   "metadata": {
    "scrolled": false
   },
   "outputs": [],
   "source": [
    "%%sql SELECT COMMUNITY_AREA_NAME, SUM(COLLEGE_ENROLLMENT) AS TOTAL_ENROLLMENT FROM CHICAGO_PUBLIC_SCHOOLS\n",
    "        GROUP BY COMMUNITY_AREA_NAME LIMIT 5;"
   ]
  },
  {
   "cell_type": "markdown",
   "id": "81e75abc",
   "metadata": {},
   "source": [
    "## What are the 5 community areas with the least total \"College Enrollment\"? (sorted in ascending order)"
   ]
  },
  {
   "cell_type": "code",
   "execution_count": null,
   "id": "18421bc8",
   "metadata": {},
   "outputs": [],
   "source": [
    "%%sql SELECT COMMUNITY_AREA_NAME, SUM(COLLEGE_ENROLLMENT) AS TOTAL_ENROLLMENT FROM CHICAGO_PUBLIC_SCHOOLS\n",
    "        GROUP BY COMMUNITY_AREA_NAME ORDER BY TOTAL_ENROLLMENT ASC LIMIT 5;"
   ]
  },
  {
   "cell_type": "markdown",
   "id": "75f29e45",
   "metadata": {},
   "source": [
    "# QUERIES FOR CRIME DATA\n",
    "***"
   ]
  },
  {
   "cell_type": "markdown",
   "id": "f0eef7e7",
   "metadata": {},
   "source": [
    "## Column metadata"
   ]
  },
  {
   "cell_type": "code",
   "execution_count": null,
   "id": "2f4c7c0f",
   "metadata": {
    "scrolled": true
   },
   "outputs": [],
   "source": [
    "%sql SELECT name,type,length(type) FROM PRAGMA_TABLE_INFO('CHICAGO_CRIME_DATA') LIMIT 5;"
   ]
  },
  {
   "cell_type": "markdown",
   "id": "95e77a49",
   "metadata": {},
   "source": [
    "## What is the total number of crimes recorded in the table?"
   ]
  },
  {
   "cell_type": "code",
   "execution_count": null,
   "id": "97129cb6",
   "metadata": {},
   "outputs": [],
   "source": [
    "%sql SELECT DISTINCT(COUNT(ID)) FROM CHICAGO_CRIME_DATA;"
   ]
  },
  {
   "cell_type": "markdown",
   "id": "de53015e",
   "metadata": {},
   "source": [
    "## What are the case numbers for crimes involving minors? (children are not considered minors for the purposes of crime analysis)"
   ]
  },
  {
   "cell_type": "code",
   "execution_count": null,
   "id": "233a6e50",
   "metadata": {},
   "outputs": [],
   "source": [
    "%%sql SELECT CASE_NUMBER, PRIMARY_TYPE, DESCRIPTION FROM CHICAGO_CRIME_DATA\n",
    "        WHERE PRIMARY_TYPE LIKE '%MINOR%' OR DESCRIPTION LIKE '%MINOR%';"
   ]
  },
  {
   "cell_type": "markdown",
   "id": "50be2c50",
   "metadata": {},
   "source": [
    "## What are the kidnapping crimes involving a child?"
   ]
  },
  {
   "cell_type": "code",
   "execution_count": null,
   "id": "8a73e8f3",
   "metadata": {},
   "outputs": [],
   "source": [
    "%%sql SELECT * FROM CHICAGO_CRIME_DATA\n",
    "        WHERE PRIMARY_TYPE LIKE '%KIDNAP%' AND DESCRIPTION LIKE '%CHILD%';"
   ]
  },
  {
   "cell_type": "markdown",
   "id": "58bd57cd",
   "metadata": {},
   "source": [
    "## What kinds of crimes were recorded at schools?"
   ]
  },
  {
   "cell_type": "code",
   "execution_count": null,
   "id": "aa1b0bba",
   "metadata": {},
   "outputs": [],
   "source": [
    "%%sql SELECT DISTINCT(PRIMARY_TYPE), LOCATION_DESCRIPTION FROM CHICAGO_CRIME_DATA\n",
    "        WHERE LOCATION_DESCRIPTION LIKE '%SCHOOL%';"
   ]
  },
  {
   "cell_type": "markdown",
   "id": "0530ef60",
   "metadata": {},
   "source": [
    "# QUERIES FOR MULTIPLE TABLES\n",
    "***"
   ]
  },
  {
   "cell_type": "markdown",
   "id": "470143fb",
   "metadata": {},
   "source": [
    "## What is the hardship index for the community area which has street adress of '3630 S Wells St'?"
   ]
  },
  {
   "cell_type": "code",
   "execution_count": null,
   "id": "10c57fb4",
   "metadata": {},
   "outputs": [],
   "source": [
    "%%sql SELECT CD.COMMUNITY_AREA_NUMBER, CD.HARDSHIP_INDEX, CPS.Street_Address FROM CENSUS_DATA CD, CHICAGO_PUBLIC_SCHOOLS CPS\n",
    "        WHERE CD.COMMUNITY_AREA_NUMBER = CPS.COMMUNITY_AREA_NUMBER AND CPS.Street_Address = '3630 S Wells St';"
   ]
  },
  {
   "cell_type": "markdown",
   "id": "3f6bdb0d",
   "metadata": {},
   "source": [
    "## What the hardship index for the community area which has the school with the highest college enrollment?"
   ]
  },
  {
   "cell_type": "code",
   "execution_count": null,
   "id": "87565578",
   "metadata": {
    "scrolled": true
   },
   "outputs": [],
   "source": [
    "%%sql SELECT COMMUNITY_AREA_NUMBER, COMMUNITY_AREA_NAME, HARDSHIP_INDEX FROM CENSUS_DATA\n",
    "        WHERE COMMUNITY_AREA_NUMBER IN(SELECT COMMUNITY_AREA_NUMBER FROM CHICAGO_PUBLIC_SCHOOLS ORDER BY COLLEGE_ENROLLMENT DESC LIMIT 1);"
   ]
  },
  {
   "cell_type": "markdown",
   "id": "47dfe291",
   "metadata": {},
   "source": [
    "## Which community area is most crime prone?"
   ]
  },
  {
   "cell_type": "code",
   "execution_count": null,
   "id": "3cebfb48",
   "metadata": {
    "scrolled": true
   },
   "outputs": [],
   "source": [
    "%%sql\n",
    "\n",
    "SELECT CD.COMMUNITY_AREA_NAME, CD.COMMUNITY_AREA_NUMBER,\n",
    "(SELECT COUNT(*) FROM CHICAGO_CRIME_DATA GROUP BY COMMUNITY_AREA_NUMBER ORDER BY COUNT(*) DESC LIMIT 1)  AS NUMBER_OF_CRIMES \n",
    "FROM CENSUS_DATA CD, CHICAGO_CRIME_DATA CCD\n",
    "    WHERE CD.COMMUNITY_AREA_NUMBER = (SELECT COMMUNITY_AREA_NUMBER FROM CHICAGO_CRIME_DATA\n",
    "                                             GROUP BY COMMUNITY_AREA_NUMBER ORDER BY COUNT(*) DESC LIMIT 1) LIMIT 1;"
   ]
  },
  {
   "cell_type": "markdown",
   "id": "9aa9018b",
   "metadata": {},
   "source": [
    "# <center>________________________________________________________________</center>"
   ]
  }
 ],
 "metadata": {
  "kernelspec": {
   "display_name": "Python 3 (ipykernel)",
   "language": "python",
   "name": "python3"
  },
  "language_info": {
   "codemirror_mode": {
    "name": "ipython",
    "version": 3
   },
   "file_extension": ".py",
   "mimetype": "text/x-python",
   "name": "python",
   "nbconvert_exporter": "python",
   "pygments_lexer": "ipython3",
   "version": "3.9.12"
  }
 },
 "nbformat": 4,
 "nbformat_minor": 5
}
