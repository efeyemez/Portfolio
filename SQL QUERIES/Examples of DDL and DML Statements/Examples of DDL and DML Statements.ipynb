{
 "cells": [
  {
   "cell_type": "markdown",
   "id": "8acd5a23",
   "metadata": {},
   "source": [
    "# <center>________________________________________________________________</center>"
   ]
  },
  {
   "cell_type": "markdown",
   "id": "2e4335de",
   "metadata": {},
   "source": [
    "# <center>EXAMPLES OF DML AND DDL COMMANDS</center>"
   ]
  },
  {
   "cell_type": "markdown",
   "id": "5e414f84",
   "metadata": {},
   "source": [
    "# <center>________________________________________________________________</center>"
   ]
  },
  {
   "cell_type": "markdown",
   "id": "3a3fbc16",
   "metadata": {},
   "source": [
    "## Libraries\n",
    "***"
   ]
  },
  {
   "cell_type": "code",
   "execution_count": null,
   "id": "569d87b1",
   "metadata": {},
   "outputs": [],
   "source": [
    "#!pip install sqlalchemy\n",
    "#!pip install sqlite3\n",
    "#!pip install ipython-sql"
   ]
  },
  {
   "cell_type": "code",
   "execution_count": 1,
   "id": "3c6a72a5",
   "metadata": {},
   "outputs": [],
   "source": [
    "import sqlite3"
   ]
  },
  {
   "cell_type": "markdown",
   "id": "539f54b2",
   "metadata": {},
   "source": [
    "## Creating and Connecting to a Database\n",
    "***"
   ]
  },
  {
   "cell_type": "code",
   "execution_count": 2,
   "id": "f6e7a580",
   "metadata": {},
   "outputs": [],
   "source": [
    "%load_ext sql"
   ]
  },
  {
   "cell_type": "code",
   "execution_count": 3,
   "id": "b5abf527",
   "metadata": {
    "scrolled": true
   },
   "outputs": [],
   "source": [
    "con = sqlite3.connect(\"mydatabase.db\")\n",
    "cur = con.cursor()"
   ]
  },
  {
   "cell_type": "code",
   "execution_count": 4,
   "id": "3c76a42b",
   "metadata": {},
   "outputs": [],
   "source": [
    "%sql sqlite:///mydatabase.db"
   ]
  },
  {
   "cell_type": "code",
   "execution_count": 5,
   "id": "9f548f31",
   "metadata": {},
   "outputs": [
    {
     "name": "stdout",
     "output_type": "stream",
     "text": [
      " * sqlite:///mydatabase.db\n",
      "Done.\n"
     ]
    },
    {
     "data": {
      "text/plain": [
       "[]"
      ]
     },
     "execution_count": 5,
     "metadata": {},
     "output_type": "execute_result"
    }
   ],
   "source": [
    "#Check if there is already a table called \"PLAYERS\"\n",
    "\n",
    "%sql DROP TABLE IF EXISTS PLAYERS;"
   ]
  },
  {
   "cell_type": "markdown",
   "id": "723babdc",
   "metadata": {},
   "source": [
    "# DDL STATEMENTS\n",
    "***"
   ]
  },
  {
   "cell_type": "markdown",
   "id": "6d4d0f55",
   "metadata": {},
   "source": [
    "## CREATE\n",
    "***"
   ]
  },
  {
   "cell_type": "code",
   "execution_count": 6,
   "id": "b3b7e6dc",
   "metadata": {
    "scrolled": true
   },
   "outputs": [
    {
     "name": "stdout",
     "output_type": "stream",
     "text": [
      " * sqlite:///mydatabase.db\n",
      "Done.\n"
     ]
    },
    {
     "data": {
      "text/plain": [
       "[]"
      ]
     },
     "execution_count": 6,
     "metadata": {},
     "output_type": "execute_result"
    }
   ],
   "source": [
    "%%sql\n",
    "\n",
    "CREATE TABLE PLAYERS\n",
    "    (ID INTEGER PRIMARY KEY NOT NULL,\n",
    "     FNAME INTEGER,\n",
    "     LASTNAME VARCHAR(20),\n",
    "     CITY VARCHAR(20),\n",
    "     CCODE CHAR(2));"
   ]
  },
  {
   "cell_type": "code",
   "execution_count": 7,
   "id": "0004a495",
   "metadata": {
    "scrolled": false
   },
   "outputs": [
    {
     "name": "stdout",
     "output_type": "stream",
     "text": [
      " * sqlite:///mydatabase.db\n",
      "Done.\n"
     ]
    },
    {
     "data": {
      "text/html": [
       "<table>\n",
       "    <tr>\n",
       "        <th>name</th>\n",
       "        <th>type</th>\n",
       "        <th>length(type)</th>\n",
       "    </tr>\n",
       "    <tr>\n",
       "        <td>ID</td>\n",
       "        <td>INTEGER</td>\n",
       "        <td>7</td>\n",
       "    </tr>\n",
       "    <tr>\n",
       "        <td>FNAME</td>\n",
       "        <td>INTEGER</td>\n",
       "        <td>7</td>\n",
       "    </tr>\n",
       "    <tr>\n",
       "        <td>LASTNAME</td>\n",
       "        <td>VARCHAR(20)</td>\n",
       "        <td>11</td>\n",
       "    </tr>\n",
       "    <tr>\n",
       "        <td>CITY</td>\n",
       "        <td>VARCHAR(20)</td>\n",
       "        <td>11</td>\n",
       "    </tr>\n",
       "    <tr>\n",
       "        <td>CCODE</td>\n",
       "        <td>CHAR(2)</td>\n",
       "        <td>7</td>\n",
       "    </tr>\n",
       "</table>"
      ],
      "text/plain": [
       "[('ID', 'INTEGER', 7),\n",
       " ('FNAME', 'INTEGER', 7),\n",
       " ('LASTNAME', 'VARCHAR(20)', 11),\n",
       " ('CITY', 'VARCHAR(20)', 11),\n",
       " ('CCODE', 'CHAR(2)', 7)]"
      ]
     },
     "execution_count": 7,
     "metadata": {},
     "output_type": "execute_result"
    }
   ],
   "source": [
    "# Metadata\n",
    "\n",
    "%sql SELECT name,type,length(type) FROM PRAGMA_TABLE_INFO('PLAYERS');"
   ]
  },
  {
   "cell_type": "markdown",
   "id": "4fc15ff6",
   "metadata": {},
   "source": [
    "## ALTER\n",
    "***"
   ]
  },
  {
   "cell_type": "markdown",
   "id": "33d69ca2",
   "metadata": {},
   "source": [
    "### Add a Column"
   ]
  },
  {
   "cell_type": "code",
   "execution_count": 8,
   "id": "f5b102df",
   "metadata": {},
   "outputs": [
    {
     "name": "stdout",
     "output_type": "stream",
     "text": [
      " * sqlite:///mydatabase.db\n",
      "Done.\n"
     ]
    },
    {
     "data": {
      "text/plain": [
       "[]"
      ]
     },
     "execution_count": 8,
     "metadata": {},
     "output_type": "execute_result"
    }
   ],
   "source": [
    "%%sql\n",
    "\n",
    "ALTER TABLE PLAYERS\n",
    "    ADD COLUMN SERIAL_NUMBER BIGINT;"
   ]
  },
  {
   "cell_type": "code",
   "execution_count": 9,
   "id": "2c1f7a44",
   "metadata": {},
   "outputs": [
    {
     "name": "stdout",
     "output_type": "stream",
     "text": [
      " * sqlite:///mydatabase.db\n",
      "Done.\n"
     ]
    },
    {
     "data": {
      "text/html": [
       "<table>\n",
       "    <tr>\n",
       "        <th>name</th>\n",
       "        <th>type</th>\n",
       "        <th>length(type)</th>\n",
       "    </tr>\n",
       "    <tr>\n",
       "        <td>ID</td>\n",
       "        <td>INTEGER</td>\n",
       "        <td>7</td>\n",
       "    </tr>\n",
       "    <tr>\n",
       "        <td>FNAME</td>\n",
       "        <td>INTEGER</td>\n",
       "        <td>7</td>\n",
       "    </tr>\n",
       "    <tr>\n",
       "        <td>LASTNAME</td>\n",
       "        <td>VARCHAR(20)</td>\n",
       "        <td>11</td>\n",
       "    </tr>\n",
       "    <tr>\n",
       "        <td>CITY</td>\n",
       "        <td>VARCHAR(20)</td>\n",
       "        <td>11</td>\n",
       "    </tr>\n",
       "    <tr>\n",
       "        <td>CCODE</td>\n",
       "        <td>CHAR(2)</td>\n",
       "        <td>7</td>\n",
       "    </tr>\n",
       "    <tr>\n",
       "        <td>SERIAL_NUMBER</td>\n",
       "        <td>BIGINT</td>\n",
       "        <td>6</td>\n",
       "    </tr>\n",
       "</table>"
      ],
      "text/plain": [
       "[('ID', 'INTEGER', 7),\n",
       " ('FNAME', 'INTEGER', 7),\n",
       " ('LASTNAME', 'VARCHAR(20)', 11),\n",
       " ('CITY', 'VARCHAR(20)', 11),\n",
       " ('CCODE', 'CHAR(2)', 7),\n",
       " ('SERIAL_NUMBER', 'BIGINT', 6)]"
      ]
     },
     "execution_count": 9,
     "metadata": {},
     "output_type": "execute_result"
    }
   ],
   "source": [
    "%sql SELECT name,type,length(type) FROM PRAGMA_TABLE_INFO('PLAYERS');"
   ]
  },
  {
   "cell_type": "markdown",
   "id": "22ab288c",
   "metadata": {},
   "source": [
    "### Drop a Column"
   ]
  },
  {
   "cell_type": "code",
   "execution_count": 10,
   "id": "c143c797",
   "metadata": {},
   "outputs": [
    {
     "name": "stdout",
     "output_type": "stream",
     "text": [
      " * sqlite:///mydatabase.db\n",
      "Done.\n"
     ]
    },
    {
     "data": {
      "text/plain": [
       "[]"
      ]
     },
     "execution_count": 10,
     "metadata": {},
     "output_type": "execute_result"
    }
   ],
   "source": [
    "%%sql\n",
    "\n",
    "ALTER TABLE PLAYERS\n",
    "    DROP COLUMN SERIAL_NUMBER;"
   ]
  },
  {
   "cell_type": "code",
   "execution_count": 11,
   "id": "924c37c7",
   "metadata": {},
   "outputs": [
    {
     "name": "stdout",
     "output_type": "stream",
     "text": [
      " * sqlite:///mydatabase.db\n",
      "Done.\n"
     ]
    },
    {
     "data": {
      "text/html": [
       "<table>\n",
       "    <tr>\n",
       "        <th>name</th>\n",
       "        <th>type</th>\n",
       "        <th>length(type)</th>\n",
       "    </tr>\n",
       "    <tr>\n",
       "        <td>ID</td>\n",
       "        <td>INTEGER</td>\n",
       "        <td>7</td>\n",
       "    </tr>\n",
       "    <tr>\n",
       "        <td>FNAME</td>\n",
       "        <td>INTEGER</td>\n",
       "        <td>7</td>\n",
       "    </tr>\n",
       "    <tr>\n",
       "        <td>LASTNAME</td>\n",
       "        <td>VARCHAR(20)</td>\n",
       "        <td>11</td>\n",
       "    </tr>\n",
       "    <tr>\n",
       "        <td>CITY</td>\n",
       "        <td>VARCHAR(20)</td>\n",
       "        <td>11</td>\n",
       "    </tr>\n",
       "    <tr>\n",
       "        <td>CCODE</td>\n",
       "        <td>CHAR(2)</td>\n",
       "        <td>7</td>\n",
       "    </tr>\n",
       "</table>"
      ],
      "text/plain": [
       "[('ID', 'INTEGER', 7),\n",
       " ('FNAME', 'INTEGER', 7),\n",
       " ('LASTNAME', 'VARCHAR(20)', 11),\n",
       " ('CITY', 'VARCHAR(20)', 11),\n",
       " ('CCODE', 'CHAR(2)', 7)]"
      ]
     },
     "execution_count": 11,
     "metadata": {},
     "output_type": "execute_result"
    }
   ],
   "source": [
    "%sql SELECT name,type,length(type) FROM PRAGMA_TABLE_INFO('PLAYERS');"
   ]
  },
  {
   "cell_type": "markdown",
   "id": "0ca4915e",
   "metadata": {},
   "source": [
    "### Change the Data Type or Name of a Column"
   ]
  },
  {
   "cell_type": "markdown",
   "id": "eb6e7548",
   "metadata": {},
   "source": [
    "Normally we would execute the following cells but in SQLite the ALTER TABLE statement has limited functionality compared to other database management systems. SQLite doesn't provide a direct command to change the data type OR name of a column. So next statements won't be executed:"
   ]
  },
  {
   "cell_type": "raw",
   "id": "7ac2563f",
   "metadata": {},
   "source": [
    "%%sql\n",
    "\n",
    "ALTER TABLE PLAYERS\n",
    "    ALTER COLUMN FNAME SET TYPE VARCHAR(20);"
   ]
  },
  {
   "cell_type": "raw",
   "id": "08b7e3e0",
   "metadata": {},
   "source": [
    "%%sql\n",
    "\n",
    "ALTER TABLE PLAYERS\n",
    "    RENAME COLUMN LASTNAME TO LNAME;"
   ]
  },
  {
   "cell_type": "markdown",
   "id": "67081db4",
   "metadata": {},
   "source": [
    "As instead, following codes will be executed as an alternative to change the data type and name:"
   ]
  },
  {
   "cell_type": "code",
   "execution_count": 12,
   "id": "18b6861d",
   "metadata": {},
   "outputs": [
    {
     "name": "stdout",
     "output_type": "stream",
     "text": [
      " * sqlite:///mydatabase.db\n",
      "Done.\n",
      "0 rows affected.\n",
      "Done.\n",
      "Done.\n"
     ]
    },
    {
     "data": {
      "text/plain": [
       "[]"
      ]
     },
     "execution_count": 12,
     "metadata": {},
     "output_type": "execute_result"
    }
   ],
   "source": [
    "%%sql\n",
    "\n",
    "CREATE TABLE TEMP_PLAYERS (\n",
    "    ID INTEGER PRIMARY KEY,\n",
    "    FNAME VARCHAR(20),\n",
    "    LASTNAME VARCHAR(20),\n",
    "    CITY VARCHAR(20),\n",
    "    CCODE CHAR(2)\n",
    "    );\n",
    "\n",
    "INSERT INTO TEMP_PLAYERS (ID, FNAME, LASTNAME, CITY, CCODE)\n",
    "SELECT ID, FNAME, LASTNAME, CITY, CCODE FROM PLAYERS;\n",
    "\n",
    "DROP TABLE PLAYERS;\n",
    "\n",
    "ALTER TABLE TEMP_PLAYERS RENAME TO PLAYERS;"
   ]
  },
  {
   "cell_type": "code",
   "execution_count": 13,
   "id": "19890e7e",
   "metadata": {},
   "outputs": [
    {
     "name": "stdout",
     "output_type": "stream",
     "text": [
      " * sqlite:///mydatabase.db\n",
      "Done.\n",
      "0 rows affected.\n",
      "Done.\n",
      "Done.\n"
     ]
    },
    {
     "data": {
      "text/plain": [
       "[]"
      ]
     },
     "execution_count": 13,
     "metadata": {},
     "output_type": "execute_result"
    }
   ],
   "source": [
    "%%sql\n",
    "\n",
    "CREATE TABLE TEMP_PLAYERS (\n",
    "    ID INTEGER PRIMARY KEY,\n",
    "    FNAME VARCHAR(20),\n",
    "    LNAME VARCHAR(20),\n",
    "    CITY VARCHAR(20),\n",
    "    CCODE CHAR(2)\n",
    "    );\n",
    "\n",
    "INSERT INTO TEMP_PLAYERS (ID, FNAME, LNAME, CITY, CCODE)\n",
    "SELECT ID, FNAME, LASTNAME, CITY, CCODE FROM PLAYERS;\n",
    "\n",
    "DROP TABLE PLAYERS;\n",
    "\n",
    "ALTER TABLE TEMP_PLAYERS RENAME TO PLAYERS;"
   ]
  },
  {
   "cell_type": "code",
   "execution_count": 14,
   "id": "c9f62c6c",
   "metadata": {},
   "outputs": [
    {
     "name": "stdout",
     "output_type": "stream",
     "text": [
      " * sqlite:///mydatabase.db\n",
      "Done.\n"
     ]
    },
    {
     "data": {
      "text/html": [
       "<table>\n",
       "    <tr>\n",
       "        <th>name</th>\n",
       "        <th>type</th>\n",
       "        <th>length(type)</th>\n",
       "    </tr>\n",
       "    <tr>\n",
       "        <td>ID</td>\n",
       "        <td>INTEGER</td>\n",
       "        <td>7</td>\n",
       "    </tr>\n",
       "    <tr>\n",
       "        <td>FNAME</td>\n",
       "        <td>VARCHAR(20)</td>\n",
       "        <td>11</td>\n",
       "    </tr>\n",
       "    <tr>\n",
       "        <td>LNAME</td>\n",
       "        <td>VARCHAR(20)</td>\n",
       "        <td>11</td>\n",
       "    </tr>\n",
       "    <tr>\n",
       "        <td>CITY</td>\n",
       "        <td>VARCHAR(20)</td>\n",
       "        <td>11</td>\n",
       "    </tr>\n",
       "    <tr>\n",
       "        <td>CCODE</td>\n",
       "        <td>CHAR(2)</td>\n",
       "        <td>7</td>\n",
       "    </tr>\n",
       "</table>"
      ],
      "text/plain": [
       "[('ID', 'INTEGER', 7),\n",
       " ('FNAME', 'VARCHAR(20)', 11),\n",
       " ('LNAME', 'VARCHAR(20)', 11),\n",
       " ('CITY', 'VARCHAR(20)', 11),\n",
       " ('CCODE', 'CHAR(2)', 7)]"
      ]
     },
     "execution_count": 14,
     "metadata": {},
     "output_type": "execute_result"
    }
   ],
   "source": [
    "%sql SELECT name,type,length(type) FROM PRAGMA_TABLE_INFO('PLAYERS');"
   ]
  },
  {
   "cell_type": "markdown",
   "id": "068b414c",
   "metadata": {},
   "source": [
    "### Rename a Table"
   ]
  },
  {
   "cell_type": "code",
   "execution_count": 15,
   "id": "0e08669e",
   "metadata": {
    "scrolled": true
   },
   "outputs": [
    {
     "name": "stdout",
     "output_type": "stream",
     "text": [
      " * sqlite:///mydatabase.db\n",
      "Done.\n"
     ]
    },
    {
     "data": {
      "text/plain": [
       "[]"
      ]
     },
     "execution_count": 15,
     "metadata": {},
     "output_type": "execute_result"
    }
   ],
   "source": [
    "%%sql\n",
    "\n",
    "ALTER TABLE PLAYERS RENAME TO NEW_PLAYERS;"
   ]
  },
  {
   "cell_type": "code",
   "execution_count": 16,
   "id": "feacd45a",
   "metadata": {},
   "outputs": [
    {
     "name": "stdout",
     "output_type": "stream",
     "text": [
      " * sqlite:///mydatabase.db\n",
      "Done.\n"
     ]
    },
    {
     "data": {
      "text/html": [
       "<table>\n",
       "    <tr>\n",
       "        <th>name</th>\n",
       "    </tr>\n",
       "    <tr>\n",
       "        <td>NEW_PLAYERS</td>\n",
       "    </tr>\n",
       "</table>"
      ],
      "text/plain": [
       "[('NEW_PLAYERS',)]"
      ]
     },
     "execution_count": 16,
     "metadata": {},
     "output_type": "execute_result"
    }
   ],
   "source": [
    "# The database system catalog\n",
    "\n",
    "%sql SELECT name FROM sqlite_master WHERE type='table';"
   ]
  },
  {
   "cell_type": "markdown",
   "id": "40abef88",
   "metadata": {},
   "source": [
    "## TRUNCATE\n",
    "***"
   ]
  },
  {
   "cell_type": "markdown",
   "id": "5d9d9ce5",
   "metadata": {},
   "source": [
    "Normally we would execute the following cell to clean our table but in SQLite the TRUNCATE TABLE statement has limited functionality compared to other database management systems. SQLite doesn't provide a direct command to empty a table. So next statement won't work:"
   ]
  },
  {
   "cell_type": "raw",
   "id": "23083a8c",
   "metadata": {},
   "source": [
    "%%sql\n",
    "\n",
    "TRUNCATE TABLE NEW_PLAYERS\n",
    "    IMMEDIATE;"
   ]
  },
  {
   "cell_type": "markdown",
   "id": "65820dc9",
   "metadata": {},
   "source": [
    "As instead, following code would be executed as an alternative, if there was any data in the table:"
   ]
  },
  {
   "cell_type": "code",
   "execution_count": null,
   "id": "a9730ace",
   "metadata": {},
   "outputs": [],
   "source": [
    "%%sql\n",
    "\n",
    "DELETE FROM NEW_PLAYERS;\n",
    "VACUUM;"
   ]
  },
  {
   "cell_type": "markdown",
   "id": "9c4c9f77",
   "metadata": {},
   "source": [
    "## DROP\n",
    "***"
   ]
  },
  {
   "cell_type": "code",
   "execution_count": 17,
   "id": "b594867f",
   "metadata": {},
   "outputs": [
    {
     "name": "stdout",
     "output_type": "stream",
     "text": [
      " * sqlite:///mydatabase.db\n",
      "Done.\n"
     ]
    },
    {
     "data": {
      "text/plain": [
       "[]"
      ]
     },
     "execution_count": 17,
     "metadata": {},
     "output_type": "execute_result"
    }
   ],
   "source": [
    "%%sql\n",
    "\n",
    "DROP TABLE NEW_PLAYERS;"
   ]
  },
  {
   "cell_type": "code",
   "execution_count": 18,
   "id": "004eadf1",
   "metadata": {},
   "outputs": [
    {
     "name": "stdout",
     "output_type": "stream",
     "text": [
      " * sqlite:///mydatabase.db\n",
      "Done.\n"
     ]
    },
    {
     "data": {
      "text/html": [
       "<table>\n",
       "    <tr>\n",
       "        <th>name</th>\n",
       "    </tr>\n",
       "</table>"
      ],
      "text/plain": [
       "[]"
      ]
     },
     "execution_count": 18,
     "metadata": {},
     "output_type": "execute_result"
    }
   ],
   "source": [
    "%sql SELECT name FROM sqlite_master WHERE type='table';"
   ]
  },
  {
   "cell_type": "markdown",
   "id": "feeddf9f",
   "metadata": {},
   "source": [
    "# DML STATEMENTS\n",
    "***"
   ]
  },
  {
   "cell_type": "markdown",
   "id": "826bdbd7",
   "metadata": {},
   "source": [
    "First we will create an empty table:"
   ]
  },
  {
   "cell_type": "code",
   "execution_count": 19,
   "id": "cca4fa48",
   "metadata": {
    "scrolled": true
   },
   "outputs": [
    {
     "name": "stdout",
     "output_type": "stream",
     "text": [
      " * sqlite:///mydatabase.db\n",
      "Done.\n",
      "Done.\n"
     ]
    },
    {
     "data": {
      "text/plain": [
       "[]"
      ]
     },
     "execution_count": 19,
     "metadata": {},
     "output_type": "execute_result"
    }
   ],
   "source": [
    "%%sql\n",
    "\n",
    "DROP TABLE IF EXISTS PLAYERS;\n",
    "\n",
    "CREATE TABLE PLAYERS\n",
    "    (ID INTEGER PRIMARY KEY NOT NULL,\n",
    "     FNAME VARCHAR(20),\n",
    "     LNAME VARCHAR(20),\n",
    "     CITY VARCHAR(20),\n",
    "     CCODE CHAR(2));"
   ]
  },
  {
   "cell_type": "code",
   "execution_count": 20,
   "id": "1779d76f",
   "metadata": {},
   "outputs": [
    {
     "name": "stdout",
     "output_type": "stream",
     "text": [
      " * sqlite:///mydatabase.db\n",
      "Done.\n"
     ]
    },
    {
     "data": {
      "text/html": [
       "<table>\n",
       "    <tr>\n",
       "        <th>name</th>\n",
       "        <th>type</th>\n",
       "        <th>length(type)</th>\n",
       "    </tr>\n",
       "    <tr>\n",
       "        <td>ID</td>\n",
       "        <td>INTEGER</td>\n",
       "        <td>7</td>\n",
       "    </tr>\n",
       "    <tr>\n",
       "        <td>FNAME</td>\n",
       "        <td>VARCHAR(20)</td>\n",
       "        <td>11</td>\n",
       "    </tr>\n",
       "    <tr>\n",
       "        <td>LNAME</td>\n",
       "        <td>VARCHAR(20)</td>\n",
       "        <td>11</td>\n",
       "    </tr>\n",
       "    <tr>\n",
       "        <td>CITY</td>\n",
       "        <td>VARCHAR(20)</td>\n",
       "        <td>11</td>\n",
       "    </tr>\n",
       "    <tr>\n",
       "        <td>CCODE</td>\n",
       "        <td>CHAR(2)</td>\n",
       "        <td>7</td>\n",
       "    </tr>\n",
       "</table>"
      ],
      "text/plain": [
       "[('ID', 'INTEGER', 7),\n",
       " ('FNAME', 'VARCHAR(20)', 11),\n",
       " ('LNAME', 'VARCHAR(20)', 11),\n",
       " ('CITY', 'VARCHAR(20)', 11),\n",
       " ('CCODE', 'CHAR(2)', 7)]"
      ]
     },
     "execution_count": 20,
     "metadata": {},
     "output_type": "execute_result"
    }
   ],
   "source": [
    "%sql SELECT name,type,length(type) FROM PRAGMA_TABLE_INFO('PLAYERS');"
   ]
  },
  {
   "cell_type": "markdown",
   "id": "7320e0ae",
   "metadata": {},
   "source": [
    "# INSERT\n",
    "***"
   ]
  },
  {
   "cell_type": "markdown",
   "id": "dba9c206",
   "metadata": {},
   "source": [
    "### Single Row"
   ]
  },
  {
   "cell_type": "code",
   "execution_count": 21,
   "id": "b8d818b9",
   "metadata": {},
   "outputs": [
    {
     "name": "stdout",
     "output_type": "stream",
     "text": [
      " * sqlite:///mydatabase.db\n",
      "1 rows affected.\n"
     ]
    },
    {
     "data": {
      "text/plain": [
       "[]"
      ]
     },
     "execution_count": 21,
     "metadata": {},
     "output_type": "execute_result"
    }
   ],
   "source": [
    "%%sql\n",
    "\n",
    "INSERT INTO PLAYERS\n",
    "    VALUES (1, 'Sam', 'Fisher', 'Montreal', 'CA');"
   ]
  },
  {
   "cell_type": "markdown",
   "id": "a901aa22",
   "metadata": {},
   "source": [
    "### Multiple Rows"
   ]
  },
  {
   "cell_type": "code",
   "execution_count": 22,
   "id": "808d8e6f",
   "metadata": {},
   "outputs": [
    {
     "name": "stdout",
     "output_type": "stream",
     "text": [
      " * sqlite:///mydatabase.db\n",
      "4 rows affected.\n"
     ]
    },
    {
     "data": {
      "text/plain": [
       "[]"
      ]
     },
     "execution_count": 22,
     "metadata": {},
     "output_type": "execute_result"
    }
   ],
   "source": [
    "%%sql\n",
    "\n",
    "INSERT INTO PLAYERS\n",
    "    VALUES (2, 'Aphex', 'Twin', 'London', 'UK'),\n",
    "    (3, 'Marshall', 'Matters', 'Detroit', 'US'),\n",
    "    (4, 'Marie', 'Curie', 'Warsaw', 'PL'),\n",
    "    (5, 'Tony', 'Parker', 'Paris', 'FR');"
   ]
  },
  {
   "cell_type": "markdown",
   "id": "96d58340",
   "metadata": {},
   "source": [
    "# SELECT\n",
    "***"
   ]
  },
  {
   "cell_type": "code",
   "execution_count": 23,
   "id": "94a16292",
   "metadata": {
    "scrolled": true
   },
   "outputs": [
    {
     "name": "stdout",
     "output_type": "stream",
     "text": [
      " * sqlite:///mydatabase.db\n",
      "Done.\n"
     ]
    },
    {
     "data": {
      "text/html": [
       "<table>\n",
       "    <tr>\n",
       "        <th>ID</th>\n",
       "        <th>FNAME</th>\n",
       "        <th>LNAME</th>\n",
       "        <th>CITY</th>\n",
       "        <th>CCODE</th>\n",
       "    </tr>\n",
       "    <tr>\n",
       "        <td>1</td>\n",
       "        <td>Sam</td>\n",
       "        <td>Fisher</td>\n",
       "        <td>Montreal</td>\n",
       "        <td>CA</td>\n",
       "    </tr>\n",
       "    <tr>\n",
       "        <td>2</td>\n",
       "        <td>Aphex</td>\n",
       "        <td>Twin</td>\n",
       "        <td>London</td>\n",
       "        <td>UK</td>\n",
       "    </tr>\n",
       "    <tr>\n",
       "        <td>3</td>\n",
       "        <td>Marshall</td>\n",
       "        <td>Matters</td>\n",
       "        <td>Detroit</td>\n",
       "        <td>US</td>\n",
       "    </tr>\n",
       "    <tr>\n",
       "        <td>4</td>\n",
       "        <td>Marie</td>\n",
       "        <td>Curie</td>\n",
       "        <td>Warsaw</td>\n",
       "        <td>PL</td>\n",
       "    </tr>\n",
       "    <tr>\n",
       "        <td>5</td>\n",
       "        <td>Tony</td>\n",
       "        <td>Parker</td>\n",
       "        <td>Paris</td>\n",
       "        <td>FR</td>\n",
       "    </tr>\n",
       "</table>"
      ],
      "text/plain": [
       "[(1, 'Sam', 'Fisher', 'Montreal', 'CA'),\n",
       " (2, 'Aphex', 'Twin', 'London', 'UK'),\n",
       " (3, 'Marshall', 'Matters', 'Detroit', 'US'),\n",
       " (4, 'Marie', 'Curie', 'Warsaw', 'PL'),\n",
       " (5, 'Tony', 'Parker', 'Paris', 'FR')]"
      ]
     },
     "execution_count": 23,
     "metadata": {},
     "output_type": "execute_result"
    }
   ],
   "source": [
    "%sql SELECT * FROM PLAYERS;"
   ]
  },
  {
   "cell_type": "markdown",
   "id": "b5a61fc4",
   "metadata": {},
   "source": [
    "# UPDATE\n",
    "***"
   ]
  },
  {
   "cell_type": "code",
   "execution_count": 24,
   "id": "4417ccd7",
   "metadata": {},
   "outputs": [
    {
     "name": "stdout",
     "output_type": "stream",
     "text": [
      " * sqlite:///mydatabase.db\n",
      "1 rows affected.\n"
     ]
    },
    {
     "data": {
      "text/plain": [
       "[]"
      ]
     },
     "execution_count": 24,
     "metadata": {},
     "output_type": "execute_result"
    }
   ],
   "source": [
    "%%sql\n",
    "\n",
    "UPDATE PLAYERS SET CITY='Toronto'\n",
    "    WHERE FNAME='Sam';"
   ]
  },
  {
   "cell_type": "code",
   "execution_count": 25,
   "id": "d530a4c5",
   "metadata": {},
   "outputs": [
    {
     "name": "stdout",
     "output_type": "stream",
     "text": [
      " * sqlite:///mydatabase.db\n",
      "Done.\n"
     ]
    },
    {
     "data": {
      "text/html": [
       "<table>\n",
       "    <tr>\n",
       "        <th>ID</th>\n",
       "        <th>FNAME</th>\n",
       "        <th>LNAME</th>\n",
       "        <th>CITY</th>\n",
       "        <th>CCODE</th>\n",
       "    </tr>\n",
       "    <tr>\n",
       "        <td>1</td>\n",
       "        <td>Sam</td>\n",
       "        <td>Fisher</td>\n",
       "        <td>Toronto</td>\n",
       "        <td>CA</td>\n",
       "    </tr>\n",
       "</table>"
      ],
      "text/plain": [
       "[(1, 'Sam', 'Fisher', 'Toronto', 'CA')]"
      ]
     },
     "execution_count": 25,
     "metadata": {},
     "output_type": "execute_result"
    }
   ],
   "source": [
    "%%sql\n",
    "\n",
    "SELECT * FROM PLAYERS\n",
    "    WHERE FNAME='Sam';"
   ]
  },
  {
   "cell_type": "markdown",
   "id": "deeee51b",
   "metadata": {},
   "source": [
    "# DELETE\n",
    "***"
   ]
  },
  {
   "cell_type": "code",
   "execution_count": 26,
   "id": "35183843",
   "metadata": {},
   "outputs": [
    {
     "name": "stdout",
     "output_type": "stream",
     "text": [
      " * sqlite:///mydatabase.db\n",
      "2 rows affected.\n"
     ]
    },
    {
     "data": {
      "text/plain": [
       "[]"
      ]
     },
     "execution_count": 26,
     "metadata": {},
     "output_type": "execute_result"
    }
   ],
   "source": [
    "%%sql\n",
    "\n",
    "DELETE FROM PLAYERS\n",
    "    WHERE ID IN (1,2);"
   ]
  },
  {
   "cell_type": "code",
   "execution_count": 27,
   "id": "31158b3a",
   "metadata": {},
   "outputs": [
    {
     "name": "stdout",
     "output_type": "stream",
     "text": [
      " * sqlite:///mydatabase.db\n",
      "Done.\n"
     ]
    },
    {
     "data": {
      "text/html": [
       "<table>\n",
       "    <tr>\n",
       "        <th>ID</th>\n",
       "        <th>FNAME</th>\n",
       "        <th>LNAME</th>\n",
       "        <th>CITY</th>\n",
       "        <th>CCODE</th>\n",
       "    </tr>\n",
       "    <tr>\n",
       "        <td>3</td>\n",
       "        <td>Marshall</td>\n",
       "        <td>Matters</td>\n",
       "        <td>Detroit</td>\n",
       "        <td>US</td>\n",
       "    </tr>\n",
       "    <tr>\n",
       "        <td>4</td>\n",
       "        <td>Marie</td>\n",
       "        <td>Curie</td>\n",
       "        <td>Warsaw</td>\n",
       "        <td>PL</td>\n",
       "    </tr>\n",
       "    <tr>\n",
       "        <td>5</td>\n",
       "        <td>Tony</td>\n",
       "        <td>Parker</td>\n",
       "        <td>Paris</td>\n",
       "        <td>FR</td>\n",
       "    </tr>\n",
       "</table>"
      ],
      "text/plain": [
       "[(3, 'Marshall', 'Matters', 'Detroit', 'US'),\n",
       " (4, 'Marie', 'Curie', 'Warsaw', 'PL'),\n",
       " (5, 'Tony', 'Parker', 'Paris', 'FR')]"
      ]
     },
     "execution_count": 27,
     "metadata": {},
     "output_type": "execute_result"
    }
   ],
   "source": [
    "%sql SELECT * FROM PLAYERS;"
   ]
  },
  {
   "cell_type": "markdown",
   "id": "79efc925",
   "metadata": {},
   "source": [
    "# Close the Connection\n",
    "***"
   ]
  },
  {
   "cell_type": "code",
   "execution_count": 28,
   "id": "1cb9a707",
   "metadata": {},
   "outputs": [],
   "source": [
    "con.close()"
   ]
  },
  {
   "cell_type": "markdown",
   "id": "be8082be",
   "metadata": {},
   "source": [
    "# <center>________________________________________________________________</center>"
   ]
  }
 ],
 "metadata": {
  "kernelspec": {
   "display_name": "Python 3 (ipykernel)",
   "language": "python",
   "name": "python3"
  },
  "language_info": {
   "codemirror_mode": {
    "name": "ipython",
    "version": 3
   },
   "file_extension": ".py",
   "mimetype": "text/x-python",
   "name": "python",
   "nbconvert_exporter": "python",
   "pygments_lexer": "ipython3",
   "version": "3.9.12"
  }
 },
 "nbformat": 4,
 "nbformat_minor": 5
}
