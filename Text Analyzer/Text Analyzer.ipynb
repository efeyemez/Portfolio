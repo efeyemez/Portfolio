{
 "cells": [
  {
   "cell_type": "markdown",
   "id": "3e5db646",
   "metadata": {},
   "source": [
    "# TEXT ANALYZER"
   ]
  },
  {
   "cell_type": "markdown",
   "id": "134022c2",
   "metadata": {},
   "source": [
    "An utility tool that can perform analysis on a given piece of text. Works with the class <code>analysedText</code> with the following methods:\n",
    "\n",
    "<ul>\n",
    "    <li> <b>Constructor (__init__)</b> - This method takes the argument <code>text</code>, removes all punctuation, and makes it lower case (Considered punctuation:<code>[\".\", \"!\", \",\", \"?\"]</code>) Then this newly formatted text gets assigned to a new attribute called <code>fmtText</code>.        \n",
    "    <li> <b>freqAll</b> - This method creates and returns the dictionary of all unique words in the text, along with their frequencies. Each key in the dictionary is the unique word appearing in the text and the associated value is its frequency. This dictionary gets created from the <code>fmtText</code> attribute.\n",
    "    <li> <b>freqOf</b> - This method takes a word as an argument and returns its frequency in the <code>fmtText</code>.\n",
    "        "
   ]
  },
  {
   "cell_type": "code",
   "execution_count": 1,
   "id": "60d8b8d0",
   "metadata": {},
   "outputs": [],
   "source": [
    "class analysedText(object):\n",
    "    \n",
    "    def __init__ (self, text):\n",
    "        \n",
    "        # Remove the punctuation from \"text\" and make it lower case.\n",
    "        \n",
    "        txt = text.replace('.','').replace('!','').replace(',','').replace('?','')        \n",
    "        \n",
    "        txt = txt.lower()\n",
    "        \n",
    "        # Assign the formatted text to a new attribute called \"fmtText\".\n",
    "        \n",
    "        self.fmtText = txt\n",
    "\n",
    "        \n",
    "    def freqAll(self):    \n",
    "        \n",
    "        # Split the text into a list of words\n",
    "        \n",
    "        words = self.fmtText.split(' ')\n",
    "        \n",
    "        # Create a dictionary with the unique words in the text as keys and frequencies as values.\n",
    "      \n",
    "        freqMap = {}\n",
    "\n",
    "        for word in set(words):\n",
    "            freqMap[word] = words.count(word)\n",
    "\n",
    "        return freqMap\n",
    "\n",
    "    \n",
    "    def freqOf(self, word):\n",
    "\n",
    "        # Return the number of occurrences of <word> in <fmtText>\n",
    "        \n",
    "        dic = self.freqAll()\n",
    "        \n",
    "        if word in dic:        \n",
    "            return dic[word]\n",
    "    \n",
    "        else:\n",
    "            return 0\n",
    "        "
   ]
  },
  {
   "cell_type": "code",
   "execution_count": 2,
   "id": "a6f35938",
   "metadata": {},
   "outputs": [
    {
     "name": "stdout",
     "output_type": "stream",
     "text": [
      "efe yemez has an engineering degree and efe loves engineering \n",
      "\n",
      "{'an': 1, 'engineering': 2, 'degree': 1, 'efe': 2, 'yemez': 1, 'and': 1, 'has': 1, 'loves': 1} \n",
      "\n",
      "2 \n",
      "\n"
     ]
    }
   ],
   "source": [
    "textAnalyzer = analysedText(\"Efe Yemez has an engineering degree and Efe loves engineering\")\n",
    "\n",
    "print(textAnalyzer.fmtText,\"\\n\")\n",
    "print(textAnalyzer.freqAll(),\"\\n\")\n",
    "print(textAnalyzer.freqOf(\"engineering\"),\"\\n\")"
   ]
  }
 ],
 "metadata": {
  "kernelspec": {
   "display_name": "Python 3 (ipykernel)",
   "language": "python",
   "name": "python3"
  },
  "language_info": {
   "codemirror_mode": {
    "name": "ipython",
    "version": 3
   },
   "file_extension": ".py",
   "mimetype": "text/x-python",
   "name": "python",
   "nbconvert_exporter": "python",
   "pygments_lexer": "ipython3",
   "version": "3.9.12"
  }
 },
 "nbformat": 4,
 "nbformat_minor": 5
}
