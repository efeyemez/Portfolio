{
 "cells": [
  {
   "cell_type": "markdown",
   "id": "83d36614",
   "metadata": {},
   "source": [
    "# <center>STATISTICAL ANALYSIS OF BOSTONREAL ESTATE</center>"
   ]
  },
  {
   "cell_type": "markdown",
   "id": "b210acc2",
   "metadata": {},
   "source": [
    "The Boston Housing Dataset is a derived from information collected by the U.S. Census Service concerning housing in the area of Boston MA. The following describes the dataset columns:\n",
    "\n",
    "* **CRIM** - per capita crime rate by town\n",
    "* **ZN** - proportion of residential land zoned for lots over 25,000 sq.ft.\n",
    "* **INDUS** - proportion of non-retail business acres per town\n",
    "* **CHAS** - Charles River dummy variable (1 if tract bounds river; 0 otherwise)\n",
    "* **NOX** - nitric oxides concentration (parts per 10 million)\n",
    "* **RM** - average number of rooms per dwelling\n",
    "* **AGE** - proportion of owner-occupied units built prior to 1940\n",
    "* **DIS** - weighted distances to five Boston employment centres\n",
    "* **RAD** - index of accessibility to radial highways\n",
    "* **TAX** - full-value property-tax rate per \\\\$10,000\n",
    "* **PTRATIO** - pupil-teacher ratio by town\n",
    "* **LSTAT** - \\% lower status of the population\n",
    "* **MEDV** - median value of owner-occupied homes in \\\\$1000's"
   ]
  },
  {
   "cell_type": "code",
   "execution_count": null,
   "id": "0b5bf80a",
   "metadata": {},
   "outputs": [],
   "source": [
    "#!pip install pandas\n",
    "#!pip install numpy\n",
    "#!pip install scipy\n",
    "#!pip install seaborn\n",
    "#!pip install matplotlib\n",
    "#!pip install statsmodels"
   ]
  },
  {
   "cell_type": "code",
   "execution_count": 1,
   "id": "fbca4887",
   "metadata": {},
   "outputs": [],
   "source": [
    "## Importing necessary libraries\n",
    "\n",
    "import numpy as np\n",
    "import pandas as pd\n",
    "import seaborn as sns\n",
    "import matplotlib.pyplot as plt\n",
    "import scipy.stats as sps\n",
    "import statsmodels.api as sm\n",
    "from statsmodels.formula.api import ols"
   ]
  },
  {
   "cell_type": "markdown",
   "id": "2c7dde7c",
   "metadata": {},
   "source": [
    "# <center>_______________________________________________________________</center>"
   ]
  },
  {
   "cell_type": "markdown",
   "id": "17586377",
   "metadata": {},
   "source": [
    "# <center>DATA ACQUISATION</center>"
   ]
  },
  {
   "cell_type": "code",
   "execution_count": 2,
   "id": "bebf9944",
   "metadata": {
    "scrolled": true
   },
   "outputs": [
    {
     "data": {
      "text/html": [
       "<div>\n",
       "<style scoped>\n",
       "    .dataframe tbody tr th:only-of-type {\n",
       "        vertical-align: middle;\n",
       "    }\n",
       "\n",
       "    .dataframe tbody tr th {\n",
       "        vertical-align: top;\n",
       "    }\n",
       "\n",
       "    .dataframe thead th {\n",
       "        text-align: right;\n",
       "    }\n",
       "</style>\n",
       "<table border=\"1\" class=\"dataframe\">\n",
       "  <thead>\n",
       "    <tr style=\"text-align: right;\">\n",
       "      <th></th>\n",
       "      <th>CRIM</th>\n",
       "      <th>ZN</th>\n",
       "      <th>INDUS</th>\n",
       "      <th>CHAS</th>\n",
       "      <th>NOX</th>\n",
       "      <th>RM</th>\n",
       "      <th>AGE</th>\n",
       "      <th>DIS</th>\n",
       "      <th>RAD</th>\n",
       "      <th>TAX</th>\n",
       "      <th>PTRATIO</th>\n",
       "      <th>LSTAT</th>\n",
       "      <th>MEDV</th>\n",
       "    </tr>\n",
       "  </thead>\n",
       "  <tbody>\n",
       "    <tr>\n",
       "      <th>0</th>\n",
       "      <td>0.00632</td>\n",
       "      <td>18.0</td>\n",
       "      <td>2.31</td>\n",
       "      <td>0.0</td>\n",
       "      <td>0.538</td>\n",
       "      <td>6.575</td>\n",
       "      <td>65.2</td>\n",
       "      <td>4.0900</td>\n",
       "      <td>1.0</td>\n",
       "      <td>296.0</td>\n",
       "      <td>15.3</td>\n",
       "      <td>4.98</td>\n",
       "      <td>24.0</td>\n",
       "    </tr>\n",
       "    <tr>\n",
       "      <th>1</th>\n",
       "      <td>0.02731</td>\n",
       "      <td>0.0</td>\n",
       "      <td>7.07</td>\n",
       "      <td>0.0</td>\n",
       "      <td>0.469</td>\n",
       "      <td>6.421</td>\n",
       "      <td>78.9</td>\n",
       "      <td>4.9671</td>\n",
       "      <td>2.0</td>\n",
       "      <td>242.0</td>\n",
       "      <td>17.8</td>\n",
       "      <td>9.14</td>\n",
       "      <td>21.6</td>\n",
       "    </tr>\n",
       "    <tr>\n",
       "      <th>2</th>\n",
       "      <td>0.02729</td>\n",
       "      <td>0.0</td>\n",
       "      <td>7.07</td>\n",
       "      <td>0.0</td>\n",
       "      <td>0.469</td>\n",
       "      <td>7.185</td>\n",
       "      <td>61.1</td>\n",
       "      <td>4.9671</td>\n",
       "      <td>2.0</td>\n",
       "      <td>242.0</td>\n",
       "      <td>17.8</td>\n",
       "      <td>4.03</td>\n",
       "      <td>34.7</td>\n",
       "    </tr>\n",
       "    <tr>\n",
       "      <th>3</th>\n",
       "      <td>0.03237</td>\n",
       "      <td>0.0</td>\n",
       "      <td>2.18</td>\n",
       "      <td>0.0</td>\n",
       "      <td>0.458</td>\n",
       "      <td>6.998</td>\n",
       "      <td>45.8</td>\n",
       "      <td>6.0622</td>\n",
       "      <td>3.0</td>\n",
       "      <td>222.0</td>\n",
       "      <td>18.7</td>\n",
       "      <td>2.94</td>\n",
       "      <td>33.4</td>\n",
       "    </tr>\n",
       "    <tr>\n",
       "      <th>4</th>\n",
       "      <td>0.06905</td>\n",
       "      <td>0.0</td>\n",
       "      <td>2.18</td>\n",
       "      <td>0.0</td>\n",
       "      <td>0.458</td>\n",
       "      <td>7.147</td>\n",
       "      <td>54.2</td>\n",
       "      <td>6.0622</td>\n",
       "      <td>3.0</td>\n",
       "      <td>222.0</td>\n",
       "      <td>18.7</td>\n",
       "      <td>5.33</td>\n",
       "      <td>36.2</td>\n",
       "    </tr>\n",
       "  </tbody>\n",
       "</table>\n",
       "</div>"
      ],
      "text/plain": [
       "      CRIM    ZN  INDUS  CHAS    NOX     RM   AGE     DIS  RAD    TAX  \\\n",
       "0  0.00632  18.0   2.31   0.0  0.538  6.575  65.2  4.0900  1.0  296.0   \n",
       "1  0.02731   0.0   7.07   0.0  0.469  6.421  78.9  4.9671  2.0  242.0   \n",
       "2  0.02729   0.0   7.07   0.0  0.469  7.185  61.1  4.9671  2.0  242.0   \n",
       "3  0.03237   0.0   2.18   0.0  0.458  6.998  45.8  6.0622  3.0  222.0   \n",
       "4  0.06905   0.0   2.18   0.0  0.458  7.147  54.2  6.0622  3.0  222.0   \n",
       "\n",
       "   PTRATIO  LSTAT  MEDV  \n",
       "0     15.3   4.98  24.0  \n",
       "1     17.8   9.14  21.6  \n",
       "2     17.8   4.03  34.7  \n",
       "3     18.7   2.94  33.4  \n",
       "4     18.7   5.33  36.2  "
      ]
     },
     "execution_count": 2,
     "metadata": {},
     "output_type": "execute_result"
    }
   ],
   "source": [
    "boston_df=pd.read_csv('https://github.com/efeyemez/Portfolio/raw/main/Datasets/boston_housing.csv')\n",
    "boston_df.head()"
   ]
  },
  {
   "cell_type": "markdown",
   "id": "ccc51525",
   "metadata": {},
   "source": [
    "# <center>_______________________________________________________________</center>"
   ]
  },
  {
   "cell_type": "markdown",
   "id": "976f7a87",
   "metadata": {},
   "source": [
    "# <center>DATA VISUALIZATION</center>"
   ]
  },
  {
   "cell_type": "markdown",
   "id": "240e10b1",
   "metadata": {},
   "source": [
    "### 1 - Boxplot of the \"Median value of owner-occupied homes\""
   ]
  },
  {
   "cell_type": "code",
   "execution_count": 3,
   "id": "03571040",
   "metadata": {},
   "outputs": [
    {
     "data": {
      "image/png": "[encoded data removed]",
      "text/plain": [
       "<Figure size 640x480 with 1 Axes>"
      ]
     },
     "metadata": {},
     "output_type": "display_data"
    }
   ],
   "source": [
    "sns.set_theme(style=\"whitegrid\")\n",
    "ax = sns.boxplot(x='MEDV', data=boston_df).set(title= \"Median Value of Owner-occupied Homes\", xlabel='in $1.000\\'s')"
   ]
  },
  {
   "cell_type": "markdown",
   "id": "5eed39dd",
   "metadata": {},
   "source": [
    "### 2 - Bar plot of the Charles River variable"
   ]
  },
  {
   "cell_type": "code",
   "execution_count": 4,
   "id": "6f3c437e",
   "metadata": {},
   "outputs": [
    {
     "data": {
      "text/html": [
       "<div>\n",
       "<style scoped>\n",
       "    .dataframe tbody tr th:only-of-type {\n",
       "        vertical-align: middle;\n",
       "    }\n",
       "\n",
       "    .dataframe tbody tr th {\n",
       "        vertical-align: top;\n",
       "    }\n",
       "\n",
       "    .dataframe thead th {\n",
       "        text-align: right;\n",
       "    }\n",
       "</style>\n",
       "<table border=\"1\" class=\"dataframe\">\n",
       "  <thead>\n",
       "    <tr style=\"text-align: right;\">\n",
       "      <th></th>\n",
       "      <th>CRIM</th>\n",
       "      <th>ZN</th>\n",
       "      <th>INDUS</th>\n",
       "      <th>CHAS</th>\n",
       "      <th>NOX</th>\n",
       "      <th>RM</th>\n",
       "      <th>AGE</th>\n",
       "      <th>DIS</th>\n",
       "      <th>RAD</th>\n",
       "      <th>TAX</th>\n",
       "      <th>PTRATIO</th>\n",
       "      <th>LSTAT</th>\n",
       "      <th>MEDV</th>\n",
       "      <th>CHAS2</th>\n",
       "    </tr>\n",
       "  </thead>\n",
       "  <tbody>\n",
       "    <tr>\n",
       "      <th>0</th>\n",
       "      <td>0.00632</td>\n",
       "      <td>18.0</td>\n",
       "      <td>2.31</td>\n",
       "      <td>0.0</td>\n",
       "      <td>0.538</td>\n",
       "      <td>6.575</td>\n",
       "      <td>65.2</td>\n",
       "      <td>4.0900</td>\n",
       "      <td>1.0</td>\n",
       "      <td>296.0</td>\n",
       "      <td>15.3</td>\n",
       "      <td>4.98</td>\n",
       "      <td>24.0</td>\n",
       "      <td>Not bounds the river</td>\n",
       "    </tr>\n",
       "    <tr>\n",
       "      <th>1</th>\n",
       "      <td>0.02731</td>\n",
       "      <td>0.0</td>\n",
       "      <td>7.07</td>\n",
       "      <td>0.0</td>\n",
       "      <td>0.469</td>\n",
       "      <td>6.421</td>\n",
       "      <td>78.9</td>\n",
       "      <td>4.9671</td>\n",
       "      <td>2.0</td>\n",
       "      <td>242.0</td>\n",
       "      <td>17.8</td>\n",
       "      <td>9.14</td>\n",
       "      <td>21.6</td>\n",
       "      <td>Not bounds the river</td>\n",
       "    </tr>\n",
       "    <tr>\n",
       "      <th>2</th>\n",
       "      <td>0.02729</td>\n",
       "      <td>0.0</td>\n",
       "      <td>7.07</td>\n",
       "      <td>0.0</td>\n",
       "      <td>0.469</td>\n",
       "      <td>7.185</td>\n",
       "      <td>61.1</td>\n",
       "      <td>4.9671</td>\n",
       "      <td>2.0</td>\n",
       "      <td>242.0</td>\n",
       "      <td>17.8</td>\n",
       "      <td>4.03</td>\n",
       "      <td>34.7</td>\n",
       "      <td>Not bounds the river</td>\n",
       "    </tr>\n",
       "  </tbody>\n",
       "</table>\n",
       "</div>"
      ],
      "text/plain": [
       "      CRIM    ZN  INDUS  CHAS    NOX     RM   AGE     DIS  RAD    TAX  \\\n",
       "0  0.00632  18.0   2.31   0.0  0.538  6.575  65.2  4.0900  1.0  296.0   \n",
       "1  0.02731   0.0   7.07   0.0  0.469  6.421  78.9  4.9671  2.0  242.0   \n",
       "2  0.02729   0.0   7.07   0.0  0.469  7.185  61.1  4.9671  2.0  242.0   \n",
       "\n",
       "   PTRATIO  LSTAT  MEDV                 CHAS2  \n",
       "0     15.3   4.98  24.0  Not bounds the river  \n",
       "1     17.8   9.14  21.6  Not bounds the river  \n",
       "2     17.8   4.03  34.7  Not bounds the river  "
      ]
     },
     "execution_count": 4,
     "metadata": {},
     "output_type": "execute_result"
    }
   ],
   "source": [
    "boston_df.loc[(boston_df['CHAS'] == 1), 'CHAS2'] = 'Bounds the river'\n",
    "boston_df.loc[(boston_df['CHAS'] == 0), 'CHAS2'] = 'Not bounds the river'\n",
    "boston_df.head(3)"
   ]
  },
  {
   "cell_type": "code",
   "execution_count": 5,
   "id": "a3bb8ba7",
   "metadata": {},
   "outputs": [
    {
     "data": {
      "image/png": "[encoded data removed]",
      "text/plain": [
       "<Figure size 500x500 with 1 Axes>"
      ]
     },
     "metadata": {},
     "output_type": "display_data"
    }
   ],
   "source": [
    "sns.set(style=\"whitegrid\")\n",
    "ax = sns.catplot(x=\"CHAS2\", kind = 'count', data=boston_df).set(title= \"Number of Homes That Bound The Charles River\", xlabel='Tract Status', ylabel='Number of Homes')"
   ]
  },
  {
   "cell_type": "markdown",
   "id": "e55b5af5",
   "metadata": {},
   "source": [
    "### 3 - Boxplot of the MEDV variable vs the AGE variable"
   ]
  },
  {
   "cell_type": "code",
   "execution_count": 6,
   "id": "1154d143",
   "metadata": {},
   "outputs": [
    {
     "data": {
      "image/png": "[encoded data removed]",
      "text/plain": [
       "<Figure size 640x480 with 1 Axes>"
      ]
     },
     "metadata": {},
     "output_type": "display_data"
    }
   ],
   "source": [
    "boston_df.loc[(boston_df['AGE'] <= 35), 'AGE_GROUP'] = '35 years and younger'\n",
    "boston_df.loc[(boston_df['AGE'] > 35)&(boston_df['AGE'] < 70), 'AGE_GROUP'] = 'Between 35 and 70 years'\n",
    "boston_df.loc[(boston_df['AGE'] >= 70), 'AGE_GROUP'] = '70 years and older'\n",
    "\n",
    "sns.set_theme(style=\"whitegrid\")\n",
    "ax = sns.boxplot(x='MEDV', y = 'AGE_GROUP', data=boston_df).set(title= \"Median Value of Owner-occupied Homes\", xlabel='in $1.000\\'s', ylabel='Age Group')"
   ]
  },
  {
   "cell_type": "markdown",
   "id": "dce26e76",
   "metadata": {},
   "source": [
    "### 4 - Scatter plot of the relationship between Nitric oxide concentrations and the proportion of non-retail business acres per town"
   ]
  },
  {
   "cell_type": "code",
   "execution_count": 7,
   "id": "e6be10a8",
   "metadata": {},
   "outputs": [
    {
     "data": {
      "image/png": "[encoded data removed]",
      "text/plain": [
       "<Figure size 640x480 with 1 Axes>"
      ]
     },
     "metadata": {},
     "output_type": "display_data"
    }
   ],
   "source": [
    "ax = sns.scatterplot(x='NOX', y='INDUS', data=boston_df).set(title= \"NO Concentrations (NOX) vs. Proportion of Non-retail Business Acres per Town (INDUS)\", xlabel='NO Concentration', ylabel='INDUS')\n",
    "\n",
    "# From the plot, we can state that there is a positive correlation between these two variables."
   ]
  },
  {
   "cell_type": "markdown",
   "id": "0c878485",
   "metadata": {},
   "source": [
    "# <center>_______________________________________________________________</center>"
   ]
  },
  {
   "cell_type": "markdown",
   "id": "4a141e12",
   "metadata": {},
   "source": [
    "# <center>STATISTICAL TESTS</center>"
   ]
  },
  {
   "cell_type": "markdown",
   "id": "64334e99",
   "metadata": {},
   "source": [
    "### 1 - Is there a significant difference in median value of houses (MEDV) bounded by the Charles River or not? (T-test for independent samples, without the knowledge of population variances)"
   ]
  },
  {
   "cell_type": "markdown",
   "id": "243aa0c2",
   "metadata": {},
   "source": [
    "**Hypotheses:**\n",
    "* **H0**: Variance of MEDV values for the two groups are equal\n",
    "* **H1**: Variance of MEDV values for the two groups are not equal"
   ]
  },
  {
   "cell_type": "code",
   "execution_count": 8,
   "id": "e7006c8e",
   "metadata": {},
   "outputs": [
    {
     "data": {
      "text/plain": [
       "LeveneResult(statistic=8.75190489604598, pvalue=0.003238119367639829)"
      ]
     },
     "execution_count": 8,
     "metadata": {},
     "output_type": "execute_result"
    }
   ],
   "source": [
    "# Determining the equality of variances, with levene test\n",
    "\n",
    "sps.levene(boston_df[boston_df['CHAS'] == 0]['MEDV'],\n",
    "                   boston_df[boston_df['CHAS'] == 1]['MEDV'], center='mean')"
   ]
  },
  {
   "cell_type": "markdown",
   "id": "e575d5cb",
   "metadata": {},
   "source": [
    "Since the p-value is less than 0.05, we reject the **H0** and can not assume equality of variance"
   ]
  },
  {
   "cell_type": "markdown",
   "id": "a62b67f5",
   "metadata": {},
   "source": [
    "**Hypotheses:**\n",
    "* **H0**: Being bounded by Charles river does not affect the Median Value of Houses\n",
    "* **H1**: Being bounded by Charles river affects the Median Value of Houses"
   ]
  },
  {
   "cell_type": "code",
   "execution_count": 9,
   "id": "9bf5d796",
   "metadata": {},
   "outputs": [
    {
     "data": {
      "text/plain": [
       "Ttest_indResult(statistic=-3.113291312794837, pvalue=0.003567170098137517)"
      ]
     },
     "execution_count": 9,
     "metadata": {},
     "output_type": "execute_result"
    }
   ],
   "source": [
    "sps.ttest_ind(boston_df[boston_df['CHAS'] == 0]['MEDV'],\n",
    "                      boston_df[boston_df['CHAS'] == 1]['MEDV'], equal_var = False)\n"
   ]
  },
  {
   "cell_type": "markdown",
   "id": "456431fa",
   "metadata": {},
   "source": [
    "Since the p-value is less than 0.05 we reject the **H0**. Being bounded by Charles River effects the Median Value of Homes"
   ]
  },
  {
   "cell_type": "markdown",
   "id": "91b3bf8a",
   "metadata": {},
   "source": [
    "### 2 - Is there a difference in median values of houses (MEDV) for each proportion of owner occupied units built prior to 1940 (AGE)? (ANOVA)"
   ]
  },
  {
   "cell_type": "code",
   "execution_count": 10,
   "id": "c77a73a8",
   "metadata": {},
   "outputs": [
    {
     "data": {
      "text/html": [
       "<div>\n",
       "<style scoped>\n",
       "    .dataframe tbody tr th:only-of-type {\n",
       "        vertical-align: middle;\n",
       "    }\n",
       "\n",
       "    .dataframe tbody tr th {\n",
       "        vertical-align: top;\n",
       "    }\n",
       "\n",
       "    .dataframe thead tr th {\n",
       "        text-align: left;\n",
       "    }\n",
       "</style>\n",
       "<table border=\"1\" class=\"dataframe\">\n",
       "  <thead>\n",
       "    <tr>\n",
       "      <th></th>\n",
       "      <th>AGE_GROUP</th>\n",
       "      <th colspan=\"3\" halign=\"left\">MEDV</th>\n",
       "    </tr>\n",
       "    <tr>\n",
       "      <th></th>\n",
       "      <th></th>\n",
       "      <th>mean</th>\n",
       "      <th>std</th>\n",
       "      <th>var</th>\n",
       "    </tr>\n",
       "  </thead>\n",
       "  <tbody>\n",
       "    <tr>\n",
       "      <th>0</th>\n",
       "      <td>35 years and younger</td>\n",
       "      <td>27.775824</td>\n",
       "      <td>7.638198</td>\n",
       "      <td>58.342076</td>\n",
       "    </tr>\n",
       "    <tr>\n",
       "      <th>1</th>\n",
       "      <td>70 years and older</td>\n",
       "      <td>19.793380</td>\n",
       "      <td>9.515375</td>\n",
       "      <td>90.542369</td>\n",
       "    </tr>\n",
       "    <tr>\n",
       "      <th>2</th>\n",
       "      <td>Between 35 and 70 years</td>\n",
       "      <td>24.947656</td>\n",
       "      <td>6.969370</td>\n",
       "      <td>48.572120</td>\n",
       "    </tr>\n",
       "  </tbody>\n",
       "</table>\n",
       "</div>"
      ],
      "text/plain": [
       "                 AGE_GROUP       MEDV                     \n",
       "                                 mean       std        var\n",
       "0     35 years and younger  27.775824  7.638198  58.342076\n",
       "1       70 years and older  19.793380  9.515375  90.542369\n",
       "2  Between 35 and 70 years  24.947656  6.969370  48.572120"
      ]
     },
     "execution_count": 10,
     "metadata": {},
     "output_type": "execute_result"
    }
   ],
   "source": [
    "# From previous examples,\n",
    "\n",
    "boston_df.groupby('AGE_GROUP').agg({'MEDV':['mean', 'std', 'var']}).reset_index()"
   ]
  },
  {
   "cell_type": "markdown",
   "id": "e9cf2c54",
   "metadata": {},
   "source": [
    "**Hypotheses:**\n",
    "* **H0**: Variance of MEDV values for the three groups are equal\n",
    "* **H1**: Variance of MEDV values for the three groups are not equal"
   ]
  },
  {
   "cell_type": "code",
   "execution_count": 11,
   "id": "d13b4347",
   "metadata": {},
   "outputs": [
    {
     "data": {
      "text/plain": [
       "LeveneResult(statistic=2.7806200293748304, pvalue=0.06295337343259205)"
      ]
     },
     "execution_count": 11,
     "metadata": {},
     "output_type": "execute_result"
    }
   ],
   "source": [
    "# Determining the equality of variances, with levene test\n",
    "\n",
    "sps.levene(boston_df[boston_df['AGE_GROUP'] == '35 years and younger']['MEDV'],\n",
    "                   boston_df[boston_df['AGE_GROUP'] == 'Between 35 and 70 years']['MEDV'], \n",
    "                   boston_df[boston_df['AGE_GROUP'] == '70 years and older']['MEDV'], \n",
    "                   center='mean')"
   ]
  },
  {
   "cell_type": "markdown",
   "id": "17644408",
   "metadata": {},
   "source": [
    "Since the p-value is more than 0.05, we can not reject the **H0** and can assume equality of variance"
   ]
  },
  {
   "cell_type": "markdown",
   "id": "cd1d7247",
   "metadata": {},
   "source": [
    "**Hypotheses:**\n",
    "* **H0**: Age of houses does not affect the Median Value of Houses\n",
    "* **H1**: Age of houses affects the Median Value of Houses"
   ]
  },
  {
   "cell_type": "code",
   "execution_count": 12,
   "id": "f54078a9",
   "metadata": {},
   "outputs": [
    {
     "name": "stdout",
     "output_type": "stream",
     "text": [
      "F_Statistic: 36.40764999196599, P-Value: 1.7105011022702984e-15\n"
     ]
    }
   ],
   "source": [
    "thirtyfive_lower = boston_df[boston_df['AGE_GROUP'] == '35 years and younger']['MEDV']\n",
    "thirtyfive_seventy = boston_df[boston_df['AGE_GROUP'] == 'Between 35 and 70 years']['MEDV']\n",
    "seventy_older = boston_df[boston_df['AGE_GROUP'] == '70 years and older']['MEDV']\n",
    "\n",
    "f_statistic, p_value = sps.f_oneway(thirtyfive_lower, thirtyfive_seventy, seventy_older)\n",
    "print(\"F_Statistic: {0}, P-Value: {1}\".format(f_statistic,p_value))"
   ]
  },
  {
   "cell_type": "markdown",
   "id": "079a15e5",
   "metadata": {},
   "source": [
    "Since the p-value is less than 0.05 we reject the **H0**. Age of houses effects the Median Value of Homes."
   ]
  },
  {
   "cell_type": "markdown",
   "id": "fc988e68",
   "metadata": {},
   "source": [
    "### 3 - Can we conclude that there is no relationship between Nitric Oxide concentrations and proportion of non-retail business acres per town? (Pearson Correlation)"
   ]
  },
  {
   "cell_type": "markdown",
   "id": "a859ec74",
   "metadata": {},
   "source": [
    "**Hypotheses:**\n",
    "* **H0**: NO Concentration is not correlated with Proportion of Non-retail Business Acres per Town\n",
    "* **H1**: NO Concentration is correlated with Proportion of Non-retail Business Acres per Town"
   ]
  },
  {
   "cell_type": "code",
   "execution_count": 13,
   "id": "bb2dd1f2",
   "metadata": {},
   "outputs": [
    {
     "data": {
      "text/plain": [
       "PearsonRResult(statistic=0.7636514469209162, pvalue=7.913361061232958e-98)"
      ]
     },
     "execution_count": 13,
     "metadata": {},
     "output_type": "execute_result"
    }
   ],
   "source": [
    "sps.pearsonr(boston_df['NOX'], boston_df['INDUS'])"
   ]
  },
  {
   "cell_type": "markdown",
   "id": "5cc8c7f7",
   "metadata": {},
   "source": [
    "Since the p-value is less than 0.05 we reject the **H0**. There is a relationship between NO Concentration and Proportion of Non-retail Business Acres per Town."
   ]
  },
  {
   "cell_type": "markdown",
   "id": "1cb2928d",
   "metadata": {},
   "source": [
    "### 4 - What is the impact of an additional weighted distance  to the five Boston employment centres on the median value of owner occupied homes? (Regression analysis)"
   ]
  },
  {
   "cell_type": "markdown",
   "id": "0347cb05",
   "metadata": {},
   "source": [
    "**Hypotheses:**\n",
    "* **H0**: Weighted distance to five Boston employement centers has no effect on median value of owner occupied homes\n",
    "* **H1**: Weighted distance to five Boston employement centers has an effect on median value of owner occupied homes"
   ]
  },
  {
   "cell_type": "code",
   "execution_count": 14,
   "id": "b01366f4",
   "metadata": {},
   "outputs": [
    {
     "data": {
      "text/html": [
       "<table class=\"simpletable\">\n",
       "<caption>OLS Regression Results</caption>\n",
       "<tr>\n",
       "  <th>Dep. Variable:</th>          <td>MEDV</td>       <th>  R-squared:         </th> <td>   0.062</td>\n",
       "</tr>\n",
       "<tr>\n",
       "  <th>Model:</th>                   <td>OLS</td>       <th>  Adj. R-squared:    </th> <td>   0.061</td>\n",
       "</tr>\n",
       "<tr>\n",
       "  <th>Method:</th>             <td>Least Squares</td>  <th>  F-statistic:       </th> <td>   33.58</td>\n",
       "</tr>\n",
       "<tr>\n",
       "  <th>Date:</th>             <td>Sat, 20 May 2023</td> <th>  Prob (F-statistic):</th> <td>1.21e-08</td>\n",
       "</tr>\n",
       "<tr>\n",
       "  <th>Time:</th>                 <td>18:15:15</td>     <th>  Log-Likelihood:    </th> <td> -1823.9</td>\n",
       "</tr>\n",
       "<tr>\n",
       "  <th>No. Observations:</th>      <td>   506</td>      <th>  AIC:               </th> <td>   3652.</td>\n",
       "</tr>\n",
       "<tr>\n",
       "  <th>Df Residuals:</th>          <td>   504</td>      <th>  BIC:               </th> <td>   3660.</td>\n",
       "</tr>\n",
       "<tr>\n",
       "  <th>Df Model:</th>              <td>     1</td>      <th>                     </th>     <td> </td>   \n",
       "</tr>\n",
       "<tr>\n",
       "  <th>Covariance Type:</th>      <td>nonrobust</td>    <th>                     </th>     <td> </td>   \n",
       "</tr>\n",
       "</table>\n",
       "<table class=\"simpletable\">\n",
       "<tr>\n",
       "    <td></td>       <th>coef</th>     <th>std err</th>      <th>t</th>      <th>P>|t|</th>  <th>[0.025</th>    <th>0.975]</th>  \n",
       "</tr>\n",
       "<tr>\n",
       "  <th>const</th> <td>   18.3901</td> <td>    0.817</td> <td>   22.499</td> <td> 0.000</td> <td>   16.784</td> <td>   19.996</td>\n",
       "</tr>\n",
       "<tr>\n",
       "  <th>DIS</th>   <td>    1.0916</td> <td>    0.188</td> <td>    5.795</td> <td> 0.000</td> <td>    0.722</td> <td>    1.462</td>\n",
       "</tr>\n",
       "</table>\n",
       "<table class=\"simpletable\">\n",
       "<tr>\n",
       "  <th>Omnibus:</th>       <td>139.779</td> <th>  Durbin-Watson:     </th> <td>   0.570</td>\n",
       "</tr>\n",
       "<tr>\n",
       "  <th>Prob(Omnibus):</th> <td> 0.000</td>  <th>  Jarque-Bera (JB):  </th> <td> 305.104</td>\n",
       "</tr>\n",
       "<tr>\n",
       "  <th>Skew:</th>          <td> 1.466</td>  <th>  Prob(JB):          </th> <td>5.59e-67</td>\n",
       "</tr>\n",
       "<tr>\n",
       "  <th>Kurtosis:</th>      <td> 5.424</td>  <th>  Cond. No.          </th> <td>    9.32</td>\n",
       "</tr>\n",
       "</table><br/><br/>Notes:<br/>[1] Standard Errors assume that the covariance matrix of the errors is correctly specified."
      ],
      "text/plain": [
       "<class 'statsmodels.iolib.summary.Summary'>\n",
       "\"\"\"\n",
       "                            OLS Regression Results                            \n",
       "==============================================================================\n",
       "Dep. Variable:                   MEDV   R-squared:                       0.062\n",
       "Model:                            OLS   Adj. R-squared:                  0.061\n",
       "Method:                 Least Squares   F-statistic:                     33.58\n",
       "Date:                Sat, 20 May 2023   Prob (F-statistic):           1.21e-08\n",
       "Time:                        18:15:15   Log-Likelihood:                -1823.9\n",
       "No. Observations:                 506   AIC:                             3652.\n",
       "Df Residuals:                     504   BIC:                             3660.\n",
       "Df Model:                           1                                         \n",
       "Covariance Type:            nonrobust                                         \n",
       "==============================================================================\n",
       "                 coef    std err          t      P>|t|      [0.025      0.975]\n",
       "------------------------------------------------------------------------------\n",
       "const         18.3901      0.817     22.499      0.000      16.784      19.996\n",
       "DIS            1.0916      0.188      5.795      0.000       0.722       1.462\n",
       "==============================================================================\n",
       "Omnibus:                      139.779   Durbin-Watson:                   0.570\n",
       "Prob(Omnibus):                  0.000   Jarque-Bera (JB):              305.104\n",
       "Skew:                           1.466   Prob(JB):                     5.59e-67\n",
       "Kurtosis:                       5.424   Cond. No.                         9.32\n",
       "==============================================================================\n",
       "\n",
       "Notes:\n",
       "[1] Standard Errors assume that the covariance matrix of the errors is correctly specified.\n",
       "\"\"\""
      ]
     },
     "execution_count": 14,
     "metadata": {},
     "output_type": "execute_result"
    }
   ],
   "source": [
    "## X is the input variable (or independent variable)\n",
    "X = boston_df['DIS']\n",
    "## y is the target/dependent variable\n",
    "y = boston_df['MEDV']\n",
    "## add an intercept (beta_0) to our model\n",
    "X = sm.add_constant(X) \n",
    "\n",
    "model = sm.OLS(y, X).fit()\n",
    "# predictions = model.predict(X) # Predictions, if needed.\n",
    "\n",
    "# Print out the statistics\n",
    "model.summary()"
   ]
  },
  {
   "cell_type": "markdown",
   "id": "4686b370",
   "metadata": {},
   "source": [
    "Since the p-value is less than 0.05 we reject the **H0**. Weighted distance to five Boston employement centers (DIS) has as effect on Median value of owner occupied homes (MEDV)."
   ]
  },
  {
   "cell_type": "markdown",
   "id": "08bcc0c9",
   "metadata": {},
   "source": [
    "The 'coef' value of DIS independent variable is **1,0916**. So the impact of an additional DIS value on the MEDV value is  **1,0916** * **\\\\$1000** = **$1091,6**."
   ]
  },
  {
   "cell_type": "markdown",
   "id": "a319b11c",
   "metadata": {},
   "source": [
    "# <center>_______________________________________________________________</center>"
   ]
  },
  {
   "cell_type": "markdown",
   "id": "73e47cde",
   "metadata": {},
   "source": [
    "# <center>CONLUSIONS</center>"
   ]
  },
  {
   "cell_type": "markdown",
   "id": "b90f8cfb",
   "metadata": {},
   "source": [
    "* From the first boxplot, it can be observed that mean value of \"MEDV\" is around \\\\$22.000 and observations have many outliers."
   ]
  },
  {
   "cell_type": "markdown",
   "id": "c553a8f0",
   "metadata": {},
   "source": [
    "* From the bar plot, it can be observed that most of the houses do not bound the Charles River. In the first statistical test we tested whether being bounded by Charles River affects the Median Value of Homes and observed that indeed it affects."
   ]
  },
  {
   "cell_type": "markdown",
   "id": "7a346865",
   "metadata": {},
   "source": [
    "* From the second boxplot, it can be observed that older houses have less \"MEDV\" values but there are exceptions in all age groups. In the the second statistical test we tested this hypothesis and find the relationship between the age of the houses and the Median Value of Homes."
   ]
  },
  {
   "cell_type": "markdown",
   "id": "17cb613a",
   "metadata": {},
   "source": [
    "* From the scatter plot, it can be observed that there is a positive correlation between the proportion of non-retail business acres per town (INDUS) and nitric oxide concentration (NOX). In the third statistical test, we tested whether there is a correlation between NOX and INDUS variables and observed that indeed there is."
   ]
  },
  {
   "cell_type": "markdown",
   "id": "b9431bd9",
   "metadata": {},
   "source": [
    "* From the fourth statistical test it can be observed that Weighted distance to five Boston employement centers (DIS) has as effect on Median value of owner occupied homes (MEDV). We can also examine the details of this relationship from the regression table."
   ]
  },
  {
   "cell_type": "markdown",
   "id": "86d4a970",
   "metadata": {},
   "source": [
    "# <center>_______________________________________________________________</center>"
   ]
  }
 ],
 "metadata": {
  "kernelspec": {
   "display_name": "Python 3 (ipykernel)",
   "language": "python",
   "name": "python3"
  },
  "language_info": {
   "codemirror_mode": {
    "name": "ipython",
    "version": 3
   },
   "file_extension": ".py",
   "mimetype": "text/x-python",
   "name": "python",
   "nbconvert_exporter": "python",
   "pygments_lexer": "ipython3",
   "version": "3.9.12"
  }
 },
 "nbformat": 4,
 "nbformat_minor": 5
}
